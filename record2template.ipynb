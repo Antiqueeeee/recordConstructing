{
 "cells": [
  {
   "cell_type": "code",
   "execution_count": 1,
   "metadata": {},
   "outputs": [],
   "source": [
    "import json\n",
    "import re"
   ]
  },
  {
   "cell_type": "code",
   "execution_count": null,
   "metadata": {},
   "outputs": [],
   "source": []
  },
  {
   "cell_type": "code",
   "execution_count": 2,
   "metadata": {},
   "outputs": [],
   "source": [
    "target_json = '[{\"type\":\"现病史|3|10.0100.0489\",\"number\":\"1\",\"label\":\"年份\",\"name\":\"DiseaseTime_Year\",\"inputType\":\"年份\",\"options\":\"YYY\",\"defaultValue\":null,\"unit\":null,\"required\":null,\"children\":[],\"sheetName\":\"垂体GH瘤-男\",\"value\":\"\",\"flag\":0},{\"type\":\"现病史|3|10.0100.0489\",\"number\":\"2\",\"label\":\"月份\",\"name\":\"DiseaseTime_Month\",\"inputType\":\"月份\",\"options\":\"MM\",\"defaultValue\":null,\"unit\":null,\"required\":null,\"children\":[],\"sheetName\":\"垂体GH瘤-男\",\"value\":\"\",\"flag\":0},{\"type\":\"现病史|3|10.0100.0489\",\"number\":\"3\",\"label\":\"面貌改变\",\"name\":\"ClinicalFeature\",\"inputType\":\"多选\",\"options\":\"面貌改变|手足增大|多汗|巨人症|头疼|性功能下降\",\"defaultValue\":null,\"unit\":null,\"required\":null,\"children\":[{\"type\":\"现病史|3|10.0100.0489\",\"number\":\"3.1\",\"label\":\"面貌改变\",\"name\":\"FaceChange\",\"inputType\":\"单选\",\"options\":\"唇鼻肥大|前额突出|颧骨突出|颌骨突出\",\"defaultValue\":null,\"unit\":null,\"required\":null,\"children\":[],\"sheetName\":\"垂体GH瘤-男\",\"flag\":0},{\"type\":\"现病史|3|10.0100.0489\",\"number\":\"3.2\",\"label\":\"巨人症\",\"name\":\"Heitgh\",\"inputType\":\"文本框\",\"options\":\"请输入身高\",\"defaultValue\":null,\"unit\":\"CM\",\"required\":null,\"children\":[],\"sheetName\":\"垂体GH瘤-男\",\"value\":\"\",\"flag\":0}],\"sheetName\":\"垂体GH瘤-男\",\"value\":[\"巨人症\"],\"flag\":1},{\"type\":\"现病史|3|10.0100.0489\",\"number\":\"4\",\"label\":\"医院\",\"name\":\"FirstHospitalName\",\"inputType\":\"文本框\",\"options\":\"请输入医院名称\",\"defaultValue\":null,\"unit\":null,\"required\":null,\"children\":[],\"sheetName\":\"垂体GH瘤-男\",\"value\":\"\",\"flag\":0},{\"type\":\"现病史|3|10.0100.0489\",\"number\":\"5\",\"label\":\"生长激素结果\",\"name\":\"GrowthHormoneResults\",\"inputType\":\"文本框\",\"options\":\"请输入生长激素结果\",\"defaultValue\":null,\"unit\":null,\"required\":null,\"children\":[],\"sheetName\":\"垂体GH瘤-男\",\"value\":\"\",\"flag\":0},{\"type\":\"现病史|3|10.0100.0489\",\"number\":\"6\",\"label\":\"OGTTGH 谷值\",\"name\":\"OGTTGHResult\",\"inputType\":\"文本框\",\"options\":\"请输入OGTTGH 谷值\",\"defaultValue\":null,\"unit\":null,\"required\":null,\"children\":[],\"sheetName\":\"垂体GH瘤-男\",\"value\":\"\",\"flag\":0},{\"type\":\"现病史|3|10.0100.0489\",\"number\":\"7\",\"label\":\"IGF-1结果\",\"name\":\"IGf_1Result\",\"inputType\":\"文本框\",\"options\":\"请输入IGF-1结果\",\"defaultValue\":null,\"unit\":null,\"required\":null,\"children\":[],\"sheetName\":\"垂体GH瘤-男\",\"value\":\"\",\"flag\":0},{\"type\":\"现病史|3|10.0100.0489\",\"number\":\"8\",\"label\":\"影像学结果值\",\"name\":\"ImagingResults\",\"inputType\":\"文本框\",\"options\":\"请输入影像学结果值\",\"defaultValue\":null,\"unit\":null,\"required\":null,\"children\":[],\"sheetName\":\"垂体GH瘤-男\",\"value\":\"\",\"flag\":0},{\"type\":\"现病史|3|10.0100.0489\",\"number\":\"9\",\"label\":\"请选择\",\"name\":\"AlwaysUse\",\"inputType\":\"单选\",\"options\":\"曾使用|未使用生长激素\",\"defaultValue\":null,\"unit\":null,\"required\":null,\"children\":[{\"type\":\"现病史|3|10.0100.0489\",\"number\":\"9.1\",\"label\":\"曾使用\",\"name\":\"AlwaysUse_Hormone\",\"inputType\":\"多选\",\"options\":\"索玛卡林|善龙|兰瑞肽；\",\"defaultValue\":null,\"unit\":null,\"required\":null,\"children\":[{\"type\":\"现病史|3|10.0100.0489\",\"number\":\"9.1.1\",\"label\":\"索玛卡林\",\"name\":null,\"inputType\":null,\"options\":null,\"defaultValue\":null,\"unit\":null,\"required\":null,\"children\":[{\"type\":\"现病史|3|10.0100.0489\",\"number\":\"9.1.1.1\",\"label\":\"开始使用药品时间\",\"name\":\"AlwaysUse_Hormone_statcTimeSomCarlin\",\"inputType\":\"日期\",\"options\":\"请输入\",\"defaultValue\":null,\"unit\":null,\"required\":null,\"children\":[],\"sheetName\":\"垂体GH瘤-男\"},{\"type\":\"现病史|3|10.0100.0489\",\"number\":\"9.1.1.2\",\"label\":\"药品名\",\"name\":\"AlwaysUse_Hormone_DrugNameSomCarlin\",\"inputType\":\"文本框\",\"options\":\"请输入\",\"defaultValue\":null,\"unit\":null,\"required\":null,\"children\":[],\"sheetName\":\"垂体GH瘤-男\"},{\"type\":\"现病史|3|10.0100.0489\",\"number\":\"9.1.1.3\",\"label\":\"剂量\",\"name\":\"AlwaysUse_Hormone_DrugDoseSomCarlin\",\"inputType\":\"文本框\",\"options\":\"请输入\",\"defaultValue\":null,\"unit\":null,\"required\":null,\"children\":[],\"sheetName\":\"垂体GH瘤-男\"},{\"type\":\"现病史|3|10.0100.0489\",\"number\":\"9.1.1.4\",\"label\":\"复查时间\",\"name\":\"AlwaysUse_Hormone_ReviewTimeSomCarlin\",\"inputType\":\"日期\",\"options\":\"请输入\",\"defaultValue\":null,\"unit\":null,\"required\":null,\"children\":[],\"sheetName\":\"垂体GH瘤-男\"},{\"type\":\"现病史|3|10.0100.0489\",\"number\":\"9.1.1.5\",\"label\":\"检查结果\",\"name\":\"AlwaysUse_Hormone_ResultSomCarlin\",\"inputType\":\"文本框\",\"options\":\"请输入\",\"defaultValue\":null,\"unit\":null,\"required\":null,\"children\":[],\"sheetName\":\"垂体GH瘤-男\"},{\"type\":\"现病史|3|10.0100.0489\",\"number\":\"9.1.1.6\",\"label\":\"治疗效果跟治疗时间\",\"name\":\"AlwaysUse_Hormone_EffectAndTimeSomCarlin\",\"inputType\":\"文本框\",\"options\":\"请输入\",\"defaultValue\":null,\"unit\":null,\"required\":null,\"children\":[],\"sheetName\":\"垂体GH瘤-男\"}],\"sheetName\":\"垂体GH瘤-男\"},{\"type\":\"现病史|3|10.0100.0489\",\"number\":\"9.1.2\",\"label\":\"善龙\",\"name\":null,\"inputType\":null,\"options\":null,\"defaultValue\":null,\"unit\":null,\"required\":null,\"children\":[{\"type\":\"现病史|3|10.0100.0489\",\"number\":\"9.1.2.1\",\"label\":\"开始使用药品时间\",\"name\":\"AlwaysUse_Hormone_statcTimeDragon\",\"inputType\":\"日期\",\"options\":\"请输入\",\"defaultValue\":null,\"unit\":null,\"required\":null,\"children\":[],\"sheetName\":\"垂体GH瘤-男\"},{\"type\":\"现病史|3|10.0100.0489\",\"number\":\"9.1.2.2\",\"label\":\"药品名\",\"name\":\"AlwaysUse_Hormone_DrugNameDragon\",\"inputType\":\"文本框\",\"options\":\"请输入\",\"defaultValue\":null,\"unit\":null,\"required\":null,\"children\":[],\"sheetName\":\"垂体GH瘤-男\"},{\"type\":\"现病史|3|10.0100.0489\",\"number\":\"9.1.2.3\",\"label\":\"剂量\",\"name\":\"AlwaysUse_Hormone_DrugDoseDragon\",\"inputType\":\"文本框\",\"options\":\"请输入\",\"defaultValue\":null,\"unit\":null,\"required\":null,\"children\":[],\"sheetName\":\"垂体GH瘤-男\"},{\"type\":\"现病史|3|10.0100.0489\",\"number\":\"9.1.2.4\",\"label\":\"复查时间\",\"name\":\"AlwaysUse_Hormone_ReviewTimeDragon\",\"inputType\":\"日期\",\"options\":\"请输入\",\"defaultValue\":null,\"unit\":null,\"required\":null,\"children\":[],\"sheetName\":\"垂体GH瘤-男\"},{\"type\":\"现病史|3|10.0100.0489\",\"number\":\"9.1.2.5\",\"label\":\"检查结果\",\"name\":\"AlwaysUse_Hormone_ResultDragon\",\"inputType\":\"文本框\",\"options\":\"请输入\",\"defaultValue\":null,\"unit\":null,\"required\":null,\"children\":[],\"sheetName\":\"垂体GH瘤-男\"},{\"type\":\"现病史|3|10.0100.0489\",\"number\":\"9.1.2.6\",\"label\":\"治疗效果跟治疗时间\",\"name\":\"AlwaysUse_Hormone_EffectAndTimeDragon\",\"inputType\":\"文本框\",\"options\":\"请输入\",\"defaultValue\":null,\"unit\":null,\"required\":null,\"children\":[],\"sheetName\":\"垂体GH瘤-男\"}],\"sheetName\":\"垂体GH瘤-男\"},{\"type\":\"现病史|3|10.0100.0489\",\"number\":\"9.1.3\",\"label\":\"兰瑞肽\",\"name\":null,\"inputType\":null,\"options\":null,\"defaultValue\":null,\"unit\":null,\"required\":null,\"children\":[{\"type\":\"现病史|3|10.0100.0489\",\"number\":\"9.1.3.1\",\"label\":\"开始使用药品时间\",\"name\":\"AlwaysUse_Hormone_statcTimeLanreotide\",\"inputType\":\"日期\",\"options\":\"请输入\",\"defaultValue\":null,\"unit\":null,\"required\":null,\"children\":[],\"sheetName\":\"垂体GH瘤-男\"},{\"type\":\"现病史|3|10.0100.0489\",\"number\":\"9.1.3.2\",\"label\":\"药品名\",\"name\":\"AlwaysUse_Hormone_DrugNameLanreotide\",\"inputType\":\"文本框\",\"options\":\"请输入\",\"defaultValue\":null,\"unit\":null,\"required\":null,\"children\":[],\"sheetName\":\"垂体GH瘤-男\"},{\"type\":\"现病史|3|10.0100.0489\",\"number\":\"9.1.3.3\",\"label\":\"剂量\",\"name\":\"AlwaysUse_Hormone_DrugDoseLanreotide\",\"inputType\":\"文本框\",\"options\":\"请输入\",\"defaultValue\":null,\"unit\":\"mg\",\"required\":null,\"children\":[],\"sheetName\":\"垂体GH瘤-男\"},{\"type\":\"现病史|3|10.0100.0489\",\"number\":\"9.1.3.4\",\"label\":\"复查时间\",\"name\":\"AlwaysUse_Hormone_ReviewTimeLanreotide\",\"inputType\":\"日期\",\"options\":\"请输入\",\"defaultValue\":null,\"unit\":null,\"required\":null,\"children\":[],\"sheetName\":\"垂体GH瘤-男\"},{\"type\":\"现病史|3|10.0100.0489\",\"number\":\"9.1.3.5\",\"label\":\"检查结果\",\"name\":\"AlwaysUse_Hormone_ResultLanreotide\",\"inputType\":\"文本框\",\"options\":\"请输入\",\"defaultValue\":null,\"unit\":null,\"required\":null,\"children\":[],\"sheetName\":\"垂体GH瘤-男\"},{\"type\":\"现病史|3|10.0100.0489\",\"number\":\"9.1.3.6\",\"label\":\"治疗效果跟治疗时间\",\"name\":\"AlwaysUse_Hormone_EffectAndTimeLanreotide\",\"inputType\":\"文本框\",\"options\":\"请输入\",\"defaultValue\":null,\"unit\":null,\"required\":null,\"children\":[],\"sheetName\":\"垂体GH瘤-男\"}],\"sheetName\":\"垂体GH瘤-男\"}],\"sheetName\":\"垂体GH瘤-男\",\"flag\":0}],\"sheetName\":\"垂体GH瘤-男\",\"flag\":0},{\"type\":\"现病史|3|10.0100.0489\",\"number\":\"10\",\"label\":\"视力减退、视野缺损\",\"name\":\"haveHypoacuity\",\"inputType\":\"单选\",\"options\":\"有|无\",\"defaultValue\":\"无\",\"unit\":null,\"required\":null,\"children\":[],\"sheetName\":\"垂体GH瘤-男\",\"value\":\"有\",\"flag\":1},{\"type\":\"现病史|3|10.0100.0489\",\"number\":\"11\",\"label\":\"眼睑下垂\",\"name\":\"DroopingEyelids\",\"inputType\":\"单选\",\"options\":\"有|无\",\"defaultValue\":\"无\",\"unit\":null,\"required\":null,\"children\":[],\"sheetName\":\"垂体GH瘤-男\",\"value\":\"无\",\"flag\":0},{\"type\":\"现病史|3|10.0100.0489\",\"number\":\"12\",\"label\":\"向心性肥胖紫纹\",\"name\":\"CardiogenicFatLines\",\"inputType\":\"单选\",\"options\":\"有|无\",\"defaultValue\":\"无\",\"unit\":null,\"required\":null,\"children\":[],\"sheetName\":\"垂体GH瘤-男\",\"value\":\"无\",\"flag\":0},{\"type\":\"现病史|3|10.0100.0489\",\"number\":\"13\",\"label\":\"性功能减退\",\"name\":\"SexualFunction\",\"inputType\":\"单选\",\"options\":\"有|无\",\"defaultValue\":\"无\",\"unit\":null,\"required\":null,\"children\":[],\"sheetName\":\"垂体GH瘤-男\",\"value\":\"无\",\"flag\":0},{\"type\":\"现病史|3|10.0100.0489\",\"number\":\"14\",\"label\":\"心悸胸闷\",\"name\":\"Palpitation\",\"inputType\":\"单选\",\"options\":\"有|无\",\"defaultValue\":\"无\",\"unit\":null,\"required\":null,\"children\":[],\"sheetName\":\"垂体GH瘤-男\",\"value\":\"无\",\"flag\":0},{\"type\":\"现病史|3|10.0100.0489\",\"number\":\"15\",\"label\":\"生长抑素治疗\",\"name\":\"AlwaysTreat\",\"inputType\":\"单选\",\"options\":\"曾使用|未使用\",\"defaultValue\":null,\"unit\":null,\"required\":null,\"children\":[],\"sheetName\":\"垂体GH瘤-男\",\"flag\":0},{\"type\":\"现病史|3|10.0100.0489\",\"number\":\"16\",\"label\":\"放射治疗\",\"name\":\"Radiotherapy\",\"inputType\":\"单选\",\"options\":\"曾进行|未进行\",\"defaultValue\":null,\"unit\":null,\"required\":null,\"children\":[],\"sheetName\":\"垂体GH瘤-男\",\"flag\":0},{\"type\":\"现病史|3|10.0100.0489\",\"number\":\"17\",\"label\":\"手术治疗\",\"name\":\"OperativeTreatment\",\"inputType\":\"单选\",\"options\":\"曾进行|未进行\",\"defaultValue\":null,\"unit\":null,\"required\":null,\"children\":[],\"sheetName\":\"垂体GH瘤-男\",\"flag\":0},{\"type\":\"现病史|3|10.0100.0489\",\"number\":\"18\",\"label\":\"患者精神\",\"name\":\"SpiritCondition\",\"inputType\":\"单选组合\",\"options\":\"好|不好\",\"defaultValue\":\"好\",\"unit\":null,\"required\":null,\"children\":[{\"type\":\"现病史|3|10.0100.0489\",\"number\":\"18.1\",\"label\":\"不好\",\"name\":\"jszt\",\"inputType\":\"文本框\",\"options\":\"请输入精神状况\",\"defaultValue\":null,\"unit\":null,\"required\":null,\"children\":[],\"sheetName\":\"垂体GH瘤-男\",\"value\":\"\",\"flag\":0}],\"sheetName\":\"垂体GH瘤-男\",\"value\":\"好\",\"flag\":0},{\"type\":\"现病史|3|10.0100.0489\",\"number\":\"19\",\"label\":\"胃纳\",\"name\":\"GastricCondition\",\"inputType\":\"单选组合\",\"options\":\"可|不可\",\"defaultValue\":\"可\",\"unit\":null,\"required\":null,\"children\":[],\"sheetName\":\"垂体GH瘤-男\",\"value\":\"可\",\"flag\":0},{\"type\":\"现病史|3|10.0100.0489\",\"number\":\"20\",\"label\":\"睡眠\",\"name\":\"SleepingCondition\",\"inputType\":\"单选组合\",\"options\":\"好|不好\",\"defaultValue\":\"好\",\"unit\":null,\"required\":null,\"children\":[{\"type\":\"现病史|3|10.0100.0489\",\"number\":\"20.1\",\"label\":\"不好\",\"name\":\"smqk\",\"inputType\":\"文本框\",\"options\":\"请输入睡眠状况\",\"defaultValue\":null,\"unit\":null,\"required\":null,\"children\":[],\"sheetName\":\"垂体GH瘤-男\",\"value\":\"\",\"flag\":0}],\"sheetName\":\"垂体GH瘤-男\",\"value\":\"好\",\"flag\":0},{\"type\":\"现病史|3|10.0100.0489\",\"number\":\"21\",\"label\":\"大小便\",\"name\":\"StoolCondition\",\"inputType\":\"单选组合\",\"options\":\"正常|不正常\",\"defaultValue\":null,\"unit\":null,\"required\":null,\"children\":[{\"type\":\"现病史|3|10.0100.0489\",\"number\":\"21.1\",\"label\":\"不正常\",\"name\":\"dxbqk\",\"inputType\":\"文本框\",\"options\":\"请输入大小便情况\",\"defaultValue\":null,\"unit\":null,\"required\":null,\"children\":[],\"sheetName\":\"垂体GH瘤-男\",\"value\":\"\",\"flag\":0}],\"sheetName\":\"垂体GH瘤-男\",\"flag\":0},{\"type\":\"现病史|3|10.0100.0489\",\"number\":\"22\",\"label\":\"体重下降\",\"name\":\"WeightChangeCondition\",\"inputType\":\"单选组合\",\"options\":\"无体重明显下降|有体重明显下降\",\"defaultValue\":null,\"unit\":null,\"required\":null,\"children\":[{\"type\":\"现病史|3|10.0100.0489\",\"number\":\"22.1\",\"label\":\"有体重明显下降\",\"name\":\"tzxjqk\",\"inputType\":\"文本框\",\"options\":\"请输入体重下降情况\",\"defaultValue\":null,\"unit\":null,\"required\":null,\"children\":[],\"sheetName\":\"垂体GH瘤-男\",\"value\":\"\",\"flag\":0}],\"sheetName\":\"垂体GH瘤-男\",\"flag\":0},{\"type\":\"现病史|3|10.0100.0489\",\"number\":\"23\",\"label\":\"现用药\",\"name\":\"数据元41\",\"inputType\":\"文本框\",\"options\":\"请填写化学名或通用名\",\"defaultValue\":null,\"unit\":null,\"required\":null,\"children\":[],\"sheetName\":\"垂体GH瘤-男\",\"value\":\"\",\"flag\":0},{\"type\":\"现病史|3|10.0100.0489\",\"number\":\"24\",\"label\":\"新型冠状病毒肺炎风险评估流行病学史\",\"name\":\"XGFYBDHSKTJC_HLBXS\",\"inputType\":\"单选\",\"options\":\"阴性|阳性\",\"defaultValue\":null,\"unit\":null,\"required\":null,\"children\":[],\"sheetName\":\"垂体GH瘤-男\",\"flag\":0}]'\n",
    "target = json.loads(target_json)"
   ]
  },
  {
   "cell_type": "code",
   "execution_count": 5,
   "metadata": {},
   "outputs": [
    {
     "name": "stdout",
     "output_type": "stream",
     "text": [
      "{'年份': '2023', '月份': '5', '曾就诊医院': '患者未提及', '生长激素结果': '', 'OGTTGH谷值': '', 'IGF-1结果': '', '影像学结果值': '', '生长激素': '', '视力减退、视野缺损': '无', '眼睑下垂': '无', '向心性肥胖紫纹': '无', '性功能减退': '无', '心悸胸闷': '无', '生长抑素治疗': '', '放射治疗': '未进行', '手术治疗': '未进行', '患者精神': '好', '胃纳': '可', '睡眠': '好', '大小便': '正常', '体重下降': '无体重明显下降', '现用药': '', '面貌改变': '无', '巨人症': '有', '手足增大': '无', '多汗': '无', '头疼': '无', '性功能下降': '无', '精神不佳缘由': '', '睡眠不佳缘由': '', '大小便异常症状': '', '有体重明显下降': '', '索玛卡林-开始使用药品时间': '', '索玛卡林-药品名': '', '索玛卡林-使用剂量': '', '索玛卡林-复查时间': '', '索玛卡林-检查结果': '', '索玛卡林-治疗效果': '', '索玛卡林-治疗时间': '', '善龙-开始使用药品时间': '', '善龙-药品名': '', '善龙-使用剂量': '', '善龙-复查时间': '', '善龙-检查结果': '', '善龙-治疗效果': '', '善龙-治疗时间': '', '兰瑞肽-开始使用药品时间': '', '兰瑞肽-药品名': '', '兰瑞肽-使用剂量': '', '兰瑞肽-复查时间': '', '兰瑞肽-检查结果': '', '兰瑞肽-治疗效果': '', '兰瑞肽-治疗时间': '', '曾使用索玛卡林': '无', '曾使用善龙': '无', '曾使用兰瑞肽': '无', '新型冠状病毒核酸化验结果': ''}\n"
     ]
    }
   ],
   "source": [
    "returned = '''\n",
    "根据与患者的对话，我整理了一份结构化病历，如下所示：\n",
    "{\"年份\": \"2023\", \"月份\": \"5\", \"曾就诊医院\": \"患者未提及\", \"生长激素结果\": \"\", \"OGTTGH 谷值\": \"\", \"IGF-1结果\": \"\", \"影像学结果值\": \"\", \"生长激素\": \"\", \"视力减退、视野缺损\": \"无\", \"眼睑下垂\": \"无\", \"向心性肥胖紫纹\": \"无\", \"性功能减退\": \"无\", \"心悸胸闷\": \"无\", \"生长抑素治疗\": \"\", \"放射治疗\": \"未进行\", \"手术治疗\": \"未进行\", \"患者精神\": \"好\", \"胃纳\": \"可\", \"睡眠\": \"好\", \"大小便\": \"正常\", \"体重下降\": \"无体重明显下降\", \"现用药\": \"\", \"面貌改变\": \"无\", \"巨人症\": \"有\", \"手足增大\": \"无\", \"多汗\": \"无\", \"头疼\": \"无\", \"性功能下降\": \"无\", \"精神不佳缘由\": \"\", \"睡眠不佳缘由\": \"\", \"大小便异常症状\": \"\", \"有体重明显下降\": \"\", \"索玛卡林-开始使用药品时间\": \"\", \"索玛卡林-药品名\": \"\", \"索玛卡林-使用剂量\": \"\", \"索玛卡林-复查时间\": \"\", \"索玛卡林-检查结果\": \"\", \"索玛卡林-治疗效果\": \"\", \"索玛卡林-治疗时间\": \"\", \"善龙-开始使用药品时间\": \"\", \"善龙-药品名\": \"\", \"善龙-使用剂量\": \"\", \"善龙-复查时间\": \"\", \"善龙-检查结果\": \"\", \"善龙-治疗效果\": \"\", \"善龙-治疗时间\": \"\", \"兰瑞肽-开始使用药品时间\": \"\", \"兰瑞肽-药品名\": \"\", \"兰瑞肽-使用剂量\": \"\", \"兰瑞肽-复查时间\": \"\", \"兰瑞肽-检查结果\": \"\", \"兰瑞肽-治疗效果\": \"\", \"兰瑞肽-治疗时间\": \"\", \"曾使用索玛卡林\": \"无\", \"曾使用善龙\": \"无\", \"曾使用兰瑞肽\": \"无\", \"新型冠状病毒核酸化验结果\": \"\"}\n",
    "请注意，部分内容需要您填写，例如医院名称、生长激素结果、OGTTGH 谷值、IGF-1结果、影像学结果值、生长激素、视力减退、视野缺损、眼睑下垂、向心性肥胖紫纹、性功能减退、心悸胸闷、现用药、面貌改变、不好、不正常、有体重明显下降、药品名、剂量、检查结果、治疗效果跟治疗时间、曾使用索玛卡林、曾使用善龙、曾使用兰瑞肽、新型冠状病毒核酸化验结果。\n",
    "'''\n",
    "returned = \"\".join(returned.split())\n",
    "# result = re.search(\"\\{(.*?)\\}\",returned)  # result.group(1)\n",
    "result = re.search(r\"\\{.*?\\}\",returned)   # result.group()\n",
    "\n",
    "if result:\n",
    "    result = result.group()\n",
    "    # print(result)\n",
    "    record = json.loads(result)\n",
    "else:\n",
    "    print(\"未找到匹配内容\")\n",
    "print(record)"
   ]
  },
  {
   "cell_type": "code",
   "execution_count": 4,
   "metadata": {},
   "outputs": [],
   "source": [
    "def printTarget():\n",
    "    for i in target :\n",
    "        print(i,\"\\n\")"
   ]
  },
  {
   "cell_type": "code",
   "execution_count": 6,
   "metadata": {},
   "outputs": [
    {
     "ename": "KeyError",
     "evalue": "'索玛卡林-剂量'",
     "output_type": "error",
     "traceback": [
      "\u001b[0;31m---------------------------------------------------------------------------\u001b[0m",
      "\u001b[0;31mKeyError\u001b[0m                                  Traceback (most recent call last)",
      "Cell \u001b[0;32mIn[6], line 41\u001b[0m\n\u001b[1;32m     39\u001b[0m flag \u001b[38;5;241m=\u001b[39m \u001b[38;5;28mlist\u001b[39m() \u001b[38;5;66;03m# 用于联动前两级标签，_detail中填入东西了，则前两级也相应改变\u001b[39;00m\n\u001b[1;32m     40\u001b[0m \u001b[38;5;28;01mfor\u001b[39;00m _detail \u001b[38;5;129;01min\u001b[39;00m infoList:\n\u001b[0;32m---> 41\u001b[0m     _detail[\u001b[38;5;124m\"\u001b[39m\u001b[38;5;124mvalue\u001b[39m\u001b[38;5;124m\"\u001b[39m] \u001b[38;5;241m=\u001b[39m \u001b[43mrecord\u001b[49m\u001b[43m[\u001b[49m\u001b[43mdrugName\u001b[49m\u001b[38;5;241;43m+\u001b[39;49m\u001b[38;5;124;43m\"\u001b[39;49m\u001b[38;5;124;43m-\u001b[39;49m\u001b[38;5;124;43m\"\u001b[39;49m\u001b[38;5;241;43m+\u001b[39;49m\u001b[43m_detail\u001b[49m\u001b[43m[\u001b[49m\u001b[38;5;124;43m\"\u001b[39;49m\u001b[38;5;124;43mlabel\u001b[39;49m\u001b[38;5;124;43m\"\u001b[39;49m\u001b[43m]\u001b[49m\u001b[43m]\u001b[49m\n\u001b[1;32m     42\u001b[0m     \u001b[38;5;28;01mif\u001b[39;00m \u001b[38;5;28mlen\u001b[39m(_detail[\u001b[38;5;124m\"\u001b[39m\u001b[38;5;124mvalue\u001b[39m\u001b[38;5;124m\"\u001b[39m]) \u001b[38;5;241m>\u001b[39m \u001b[38;5;241m0\u001b[39m :\n\u001b[1;32m     43\u001b[0m         flag\u001b[38;5;241m.\u001b[39mappend(\u001b[38;5;241m1\u001b[39m)\n",
      "\u001b[0;31mKeyError\u001b[0m: '索玛卡林-剂量'"
     ]
    }
   ],
   "source": [
    "# 填值\n",
    "\n",
    "# 把target展开，利用浅复制修改原始数据\n",
    "for i in target:\n",
    "    for child in i[\"children\"]:\n",
    "        target.append(child)\n",
    "\n",
    "for i in target:\n",
    "    label = \"\".join(i[\"label\"].split()) \n",
    "#     try:\n",
    "#         len(i[\"value\"])\n",
    "#     except:\n",
    "#         i[\"value\"] = \"\"\n",
    "    \n",
    "    if label == \"新型冠状病毒肺炎风险评估流行病学史\":\n",
    "        i[\"value\"] = record[\"新型冠状病毒核酸化验结果\"]\n",
    "        continue\n",
    "    \n",
    "    if label == \"医院\":\n",
    "        i[\"value\"] = record[\"曾就诊医院\"]\n",
    "        continue\n",
    "    \n",
    "    if i[\"number\"] == \"18.1\":\n",
    "        i[\"value\"] = record[\"精神不佳缘由\"]\n",
    "\n",
    "        \n",
    "    if i[\"number\"] == \"21.1\":\n",
    "        i[\"value\"] = record[\"大小便异常症状\"]\n",
    "    \n",
    "    if i[\"number\"] == \"20.1\":\n",
    "        i[\"value\"] = record[\"睡眠不佳缘由\"]\n",
    "    \n",
    "    if i[\"label\"] == \"请选择\":\n",
    "        number9 = i\n",
    "        number91 = i[\"children\"]\n",
    "        number9111 = i[\"children\"][0][\"children\"]\n",
    "        for idx,drugName in enumerate([\"索玛卡林\",\"善龙\",\"兰瑞肽；\"]):\n",
    "            infoList = number9111[idx][\"children\"]\n",
    "            flag = list() # 用于联动前两级标签，_detail中填入东西了，则前两级也相应改变\n",
    "            for _detail in infoList:\n",
    "                _detail[\"value\"] = record[drugName+\"-\"+_detail[\"label\"]]\n",
    "                if len(_detail[\"value\"]) > 0 :\n",
    "                    flag.append(1)\n",
    "                else:\n",
    "                    flag.append(0)\n",
    "            # 详细信息中有内容，那就用过这种药，就用过生长激素\n",
    "            if sum(flag) > 0:\n",
    "                # 用过这种药\n",
    "                number91[\"value\"].append(drugName)\n",
    "                number9[\"value\"] = \"曾使用\"\n",
    "        continue\n",
    "        \n",
    "    if label in record:\n",
    "        i[\"value\"] = record[label]\n",
    "# 查看未填入值的项目\n",
    "for i in target:\n",
    "    try:\n",
    "        if i[\"value\"] == \"\":\n",
    "            print(i)\n",
    "    except:\n",
    "        pass"
   ]
  },
  {
   "cell_type": "code",
   "execution_count": null,
   "metadata": {},
   "outputs": [],
   "source": [
    "for i in target:\n",
    "    if i[\"label\"] == \"请选择\":\n",
    "        number9 = i\n",
    "        number91 = i[\"children\"]\n",
    "        number9111 = i[\"children\"][0][\"children\"]\n",
    "        for idx,drugName in enumerate([\"索玛卡林\",\"善龙\",\"兰瑞肽；\"]):\n",
    "            infoList = number9111[idx][\"children\"]\n",
    "            flag = list() # 用于联动前两级标签，_detail中填入东西了，则前两级也相应改变\n",
    "            for _detail in infoList:\n",
    "                _detail[\"value\"] = record[drugName+\"-\"+_detail[\"label\"]]\n",
    "                if len(_detail[\"value\"]) > 0 :\n",
    "                    flag.append(1)\n",
    "                else:\n",
    "                    flag.append(0)\n",
    "            # 详细信息中有内容，那就用过这种药，就用过生长激素\n",
    "            if sum(flag) > 0:\n",
    "                # 用过这种药\n",
    "                number91[\"value\"].append(drugName)\n",
    "                number9[\"value\"] = \"曾使用\""
   ]
  },
  {
   "cell_type": "code",
   "execution_count": null,
   "metadata": {},
   "outputs": [],
   "source": [
    "infoList"
   ]
  },
  {
   "cell_type": "code",
   "execution_count": null,
   "metadata": {},
   "outputs": [],
   "source": []
  }
 ],
 "metadata": {
  "kernelspec": {
   "display_name": "Python 3 (ipykernel)",
   "language": "python",
   "name": "python3"
  },
  "language_info": {
   "codemirror_mode": {
    "name": "ipython",
    "version": 3
   },
   "file_extension": ".py",
   "mimetype": "text/x-python",
   "name": "python",
   "nbconvert_exporter": "python",
   "pygments_lexer": "ipython3",
   "version": "3.10.9"
  }
 },
 "nbformat": 4,
 "nbformat_minor": 2
}
