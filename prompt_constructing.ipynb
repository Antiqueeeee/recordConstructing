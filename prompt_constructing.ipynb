{
 "cells": [
  {
   "cell_type": "code",
   "execution_count": 1,
   "id": "5ecc2b6b",
   "metadata": {},
   "outputs": [],
   "source": [
    "import json\n",
    "from collections import defaultdict"
   ]
  },
  {
   "cell_type": "code",
   "execution_count": null,
   "id": "8a856678",
   "metadata": {},
   "outputs": [],
   "source": []
  },
  {
   "cell_type": "code",
   "execution_count": 2,
   "id": "b3761b51",
   "metadata": {},
   "outputs": [],
   "source": [
    "\n",
    "\n",
    "target_json = '[{\"type\":\"现病史|3|10.0100.0489\",\"number\":\"1\",\"label\":\"年份\",\"name\":\"DiseaseTime_Year\",\"inputType\":\"年份\",\"options\":\"YYY\",\"defaultValue\":null,\"unit\":null,\"required\":null,\"children\":[],\"sheetName\":\"垂体GH瘤-男\",\"value\":\"\",\"flag\":0},{\"type\":\"现病史|3|10.0100.0489\",\"number\":\"2\",\"label\":\"月份\",\"name\":\"DiseaseTime_Month\",\"inputType\":\"月份\",\"options\":\"MM\",\"defaultValue\":null,\"unit\":null,\"required\":null,\"children\":[],\"sheetName\":\"垂体GH瘤-男\",\"value\":\"\",\"flag\":0},{\"type\":\"现病史|3|10.0100.0489\",\"number\":\"3\",\"label\":\"面貌改变\",\"name\":\"ClinicalFeature\",\"inputType\":\"多选\",\"options\":\"面貌改变|手足增大|多汗|巨人症|头疼|性功能下降\",\"defaultValue\":null,\"unit\":null,\"required\":null,\"children\":[{\"type\":\"现病史|3|10.0100.0489\",\"number\":\"3.1\",\"label\":\"面貌改变\",\"name\":\"FaceChange\",\"inputType\":\"单选\",\"options\":\"唇鼻肥大|前额突出|颧骨突出|颌骨突出\",\"defaultValue\":null,\"unit\":null,\"required\":null,\"children\":[],\"sheetName\":\"垂体GH瘤-男\",\"flag\":0},{\"type\":\"现病史|3|10.0100.0489\",\"number\":\"3.2\",\"label\":\"巨人症\",\"name\":\"Heitgh\",\"inputType\":\"文本框\",\"options\":\"请输入身高\",\"defaultValue\":null,\"unit\":\"CM\",\"required\":null,\"children\":[],\"sheetName\":\"垂体GH瘤-男\",\"value\":\"\",\"flag\":0}],\"sheetName\":\"垂体GH瘤-男\",\"value\":[\"巨人症\"],\"flag\":1},{\"type\":\"现病史|3|10.0100.0489\",\"number\":\"4\",\"label\":\"医院\",\"name\":\"FirstHospitalName\",\"inputType\":\"文本框\",\"options\":\"请输入医院名称\",\"defaultValue\":null,\"unit\":null,\"required\":null,\"children\":[],\"sheetName\":\"垂体GH瘤-男\",\"value\":\"\",\"flag\":0},{\"type\":\"现病史|3|10.0100.0489\",\"number\":\"5\",\"label\":\"生长激素结果\",\"name\":\"GrowthHormoneResults\",\"inputType\":\"文本框\",\"options\":\"请输入生长激素结果\",\"defaultValue\":null,\"unit\":null,\"required\":null,\"children\":[],\"sheetName\":\"垂体GH瘤-男\",\"value\":\"\",\"flag\":0},{\"type\":\"现病史|3|10.0100.0489\",\"number\":\"6\",\"label\":\"OGTTGH 谷值\",\"name\":\"OGTTGHResult\",\"inputType\":\"文本框\",\"options\":\"请输入OGTTGH 谷值\",\"defaultValue\":null,\"unit\":null,\"required\":null,\"children\":[],\"sheetName\":\"垂体GH瘤-男\",\"value\":\"\",\"flag\":0},{\"type\":\"现病史|3|10.0100.0489\",\"number\":\"7\",\"label\":\"IGF-1结果\",\"name\":\"IGf_1Result\",\"inputType\":\"文本框\",\"options\":\"请输入IGF-1结果\",\"defaultValue\":null,\"unit\":null,\"required\":null,\"children\":[],\"sheetName\":\"垂体GH瘤-男\",\"value\":\"\",\"flag\":0},{\"type\":\"现病史|3|10.0100.0489\",\"number\":\"8\",\"label\":\"影像学结果值\",\"name\":\"ImagingResults\",\"inputType\":\"文本框\",\"options\":\"请输入影像学结果值\",\"defaultValue\":null,\"unit\":null,\"required\":null,\"children\":[],\"sheetName\":\"垂体GH瘤-男\",\"value\":\"\",\"flag\":0},{\"type\":\"现病史|3|10.0100.0489\",\"number\":\"9\",\"label\":\"请选择\",\"name\":\"AlwaysUse\",\"inputType\":\"单选\",\"options\":\"曾使用|未使用生长激素\",\"defaultValue\":null,\"unit\":null,\"required\":null,\"children\":[{\"type\":\"现病史|3|10.0100.0489\",\"number\":\"9.1\",\"label\":\"曾使用\",\"name\":\"AlwaysUse_Hormone\",\"inputType\":\"多选\",\"options\":\"索玛卡林|善龙|兰瑞肽；\",\"defaultValue\":null,\"unit\":null,\"required\":null,\"children\":[{\"type\":\"现病史|3|10.0100.0489\",\"number\":\"9.1.1\",\"label\":\"索玛卡林\",\"name\":null,\"inputType\":null,\"options\":null,\"defaultValue\":null,\"unit\":null,\"required\":null,\"children\":[{\"type\":\"现病史|3|10.0100.0489\",\"number\":\"9.1.1.1\",\"label\":\"开始使用药品时间\",\"name\":\"AlwaysUse_Hormone_statcTimeSomCarlin\",\"inputType\":\"日期\",\"options\":\"请输入\",\"defaultValue\":null,\"unit\":null,\"required\":null,\"children\":[],\"sheetName\":\"垂体GH瘤-男\"},{\"type\":\"现病史|3|10.0100.0489\",\"number\":\"9.1.1.2\",\"label\":\"药品名\",\"name\":\"AlwaysUse_Hormone_DrugNameSomCarlin\",\"inputType\":\"文本框\",\"options\":\"请输入\",\"defaultValue\":null,\"unit\":null,\"required\":null,\"children\":[],\"sheetName\":\"垂体GH瘤-男\"},{\"type\":\"现病史|3|10.0100.0489\",\"number\":\"9.1.1.3\",\"label\":\"剂量\",\"name\":\"AlwaysUse_Hormone_DrugDoseSomCarlin\",\"inputType\":\"文本框\",\"options\":\"请输入\",\"defaultValue\":null,\"unit\":null,\"required\":null,\"children\":[],\"sheetName\":\"垂体GH瘤-男\"},{\"type\":\"现病史|3|10.0100.0489\",\"number\":\"9.1.1.4\",\"label\":\"复查时间\",\"name\":\"AlwaysUse_Hormone_ReviewTimeSomCarlin\",\"inputType\":\"日期\",\"options\":\"请输入\",\"defaultValue\":null,\"unit\":null,\"required\":null,\"children\":[],\"sheetName\":\"垂体GH瘤-男\"},{\"type\":\"现病史|3|10.0100.0489\",\"number\":\"9.1.1.5\",\"label\":\"检查结果\",\"name\":\"AlwaysUse_Hormone_ResultSomCarlin\",\"inputType\":\"文本框\",\"options\":\"请输入\",\"defaultValue\":null,\"unit\":null,\"required\":null,\"children\":[],\"sheetName\":\"垂体GH瘤-男\"},{\"type\":\"现病史|3|10.0100.0489\",\"number\":\"9.1.1.6\",\"label\":\"治疗效果跟治疗时间\",\"name\":\"AlwaysUse_Hormone_EffectAndTimeSomCarlin\",\"inputType\":\"文本框\",\"options\":\"请输入\",\"defaultValue\":null,\"unit\":null,\"required\":null,\"children\":[],\"sheetName\":\"垂体GH瘤-男\"}],\"sheetName\":\"垂体GH瘤-男\"},{\"type\":\"现病史|3|10.0100.0489\",\"number\":\"9.1.2\",\"label\":\"善龙\",\"name\":null,\"inputType\":null,\"options\":null,\"defaultValue\":null,\"unit\":null,\"required\":null,\"children\":[{\"type\":\"现病史|3|10.0100.0489\",\"number\":\"9.1.2.1\",\"label\":\"开始使用药品时间\",\"name\":\"AlwaysUse_Hormone_statcTimeDragon\",\"inputType\":\"日期\",\"options\":\"请输入\",\"defaultValue\":null,\"unit\":null,\"required\":null,\"children\":[],\"sheetName\":\"垂体GH瘤-男\"},{\"type\":\"现病史|3|10.0100.0489\",\"number\":\"9.1.2.2\",\"label\":\"药品名\",\"name\":\"AlwaysUse_Hormone_DrugNameDragon\",\"inputType\":\"文本框\",\"options\":\"请输入\",\"defaultValue\":null,\"unit\":null,\"required\":null,\"children\":[],\"sheetName\":\"垂体GH瘤-男\"},{\"type\":\"现病史|3|10.0100.0489\",\"number\":\"9.1.2.3\",\"label\":\"剂量\",\"name\":\"AlwaysUse_Hormone_DrugDoseDragon\",\"inputType\":\"文本框\",\"options\":\"请输入\",\"defaultValue\":null,\"unit\":null,\"required\":null,\"children\":[],\"sheetName\":\"垂体GH瘤-男\"},{\"type\":\"现病史|3|10.0100.0489\",\"number\":\"9.1.2.4\",\"label\":\"复查时间\",\"name\":\"AlwaysUse_Hormone_ReviewTimeDragon\",\"inputType\":\"日期\",\"options\":\"请输入\",\"defaultValue\":null,\"unit\":null,\"required\":null,\"children\":[],\"sheetName\":\"垂体GH瘤-男\"},{\"type\":\"现病史|3|10.0100.0489\",\"number\":\"9.1.2.5\",\"label\":\"检查结果\",\"name\":\"AlwaysUse_Hormone_ResultDragon\",\"inputType\":\"文本框\",\"options\":\"请输入\",\"defaultValue\":null,\"unit\":null,\"required\":null,\"children\":[],\"sheetName\":\"垂体GH瘤-男\"},{\"type\":\"现病史|3|10.0100.0489\",\"number\":\"9.1.2.6\",\"label\":\"治疗效果跟治疗时间\",\"name\":\"AlwaysUse_Hormone_EffectAndTimeDragon\",\"inputType\":\"文本框\",\"options\":\"请输入\",\"defaultValue\":null,\"unit\":null,\"required\":null,\"children\":[],\"sheetName\":\"垂体GH瘤-男\"}],\"sheetName\":\"垂体GH瘤-男\"},{\"type\":\"现病史|3|10.0100.0489\",\"number\":\"9.1.3\",\"label\":\"兰瑞肽\",\"name\":null,\"inputType\":null,\"options\":null,\"defaultValue\":null,\"unit\":null,\"required\":null,\"children\":[{\"type\":\"现病史|3|10.0100.0489\",\"number\":\"9.1.3.1\",\"label\":\"开始使用药品时间\",\"name\":\"AlwaysUse_Hormone_statcTimeLanreotide\",\"inputType\":\"日期\",\"options\":\"请输入\",\"defaultValue\":null,\"unit\":null,\"required\":null,\"children\":[],\"sheetName\":\"垂体GH瘤-男\"},{\"type\":\"现病史|3|10.0100.0489\",\"number\":\"9.1.3.2\",\"label\":\"药品名\",\"name\":\"AlwaysUse_Hormone_DrugNameLanreotide\",\"inputType\":\"文本框\",\"options\":\"请输入\",\"defaultValue\":null,\"unit\":null,\"required\":null,\"children\":[],\"sheetName\":\"垂体GH瘤-男\"},{\"type\":\"现病史|3|10.0100.0489\",\"number\":\"9.1.3.3\",\"label\":\"剂量\",\"name\":\"AlwaysUse_Hormone_DrugDoseLanreotide\",\"inputType\":\"文本框\",\"options\":\"请输入\",\"defaultValue\":null,\"unit\":\"mg\",\"required\":null,\"children\":[],\"sheetName\":\"垂体GH瘤-男\"},{\"type\":\"现病史|3|10.0100.0489\",\"number\":\"9.1.3.4\",\"label\":\"复查时间\",\"name\":\"AlwaysUse_Hormone_ReviewTimeLanreotide\",\"inputType\":\"日期\",\"options\":\"请输入\",\"defaultValue\":null,\"unit\":null,\"required\":null,\"children\":[],\"sheetName\":\"垂体GH瘤-男\"},{\"type\":\"现病史|3|10.0100.0489\",\"number\":\"9.1.3.5\",\"label\":\"检查结果\",\"name\":\"AlwaysUse_Hormone_ResultLanreotide\",\"inputType\":\"文本框\",\"options\":\"请输入\",\"defaultValue\":null,\"unit\":null,\"required\":null,\"children\":[],\"sheetName\":\"垂体GH瘤-男\"},{\"type\":\"现病史|3|10.0100.0489\",\"number\":\"9.1.3.6\",\"label\":\"治疗效果跟治疗时间\",\"name\":\"AlwaysUse_Hormone_EffectAndTimeLanreotide\",\"inputType\":\"文本框\",\"options\":\"请输入\",\"defaultValue\":null,\"unit\":null,\"required\":null,\"children\":[],\"sheetName\":\"垂体GH瘤-男\"}],\"sheetName\":\"垂体GH瘤-男\"}],\"sheetName\":\"垂体GH瘤-男\",\"flag\":0}],\"sheetName\":\"垂体GH瘤-男\",\"flag\":0},{\"type\":\"现病史|3|10.0100.0489\",\"number\":\"10\",\"label\":\"视力减退、视野缺损\",\"name\":\"haveHypoacuity\",\"inputType\":\"单选\",\"options\":\"有|无\",\"defaultValue\":\"无\",\"unit\":null,\"required\":null,\"children\":[],\"sheetName\":\"垂体GH瘤-男\",\"value\":\"有\",\"flag\":1},{\"type\":\"现病史|3|10.0100.0489\",\"number\":\"11\",\"label\":\"眼睑下垂\",\"name\":\"DroopingEyelids\",\"inputType\":\"单选\",\"options\":\"有|无\",\"defaultValue\":\"无\",\"unit\":null,\"required\":null,\"children\":[],\"sheetName\":\"垂体GH瘤-男\",\"value\":\"无\",\"flag\":0},{\"type\":\"现病史|3|10.0100.0489\",\"number\":\"12\",\"label\":\"向心性肥胖紫纹\",\"name\":\"CardiogenicFatLines\",\"inputType\":\"单选\",\"options\":\"有|无\",\"defaultValue\":\"无\",\"unit\":null,\"required\":null,\"children\":[],\"sheetName\":\"垂体GH瘤-男\",\"value\":\"无\",\"flag\":0},{\"type\":\"现病史|3|10.0100.0489\",\"number\":\"13\",\"label\":\"性功能减退\",\"name\":\"SexualFunction\",\"inputType\":\"单选\",\"options\":\"有|无\",\"defaultValue\":\"无\",\"unit\":null,\"required\":null,\"children\":[],\"sheetName\":\"垂体GH瘤-男\",\"value\":\"无\",\"flag\":0},{\"type\":\"现病史|3|10.0100.0489\",\"number\":\"14\",\"label\":\"心悸胸闷\",\"name\":\"Palpitation\",\"inputType\":\"单选\",\"options\":\"有|无\",\"defaultValue\":\"无\",\"unit\":null,\"required\":null,\"children\":[],\"sheetName\":\"垂体GH瘤-男\",\"value\":\"无\",\"flag\":0},{\"type\":\"现病史|3|10.0100.0489\",\"number\":\"15\",\"label\":\"生长抑素治疗\",\"name\":\"AlwaysTreat\",\"inputType\":\"单选\",\"options\":\"曾使用|未使用\",\"defaultValue\":null,\"unit\":null,\"required\":null,\"children\":[],\"sheetName\":\"垂体GH瘤-男\",\"flag\":0},{\"type\":\"现病史|3|10.0100.0489\",\"number\":\"16\",\"label\":\"放射治疗\",\"name\":\"Radiotherapy\",\"inputType\":\"单选\",\"options\":\"曾进行|未进行\",\"defaultValue\":null,\"unit\":null,\"required\":null,\"children\":[],\"sheetName\":\"垂体GH瘤-男\",\"flag\":0},{\"type\":\"现病史|3|10.0100.0489\",\"number\":\"17\",\"label\":\"手术治疗\",\"name\":\"OperativeTreatment\",\"inputType\":\"单选\",\"options\":\"曾进行|未进行\",\"defaultValue\":null,\"unit\":null,\"required\":null,\"children\":[],\"sheetName\":\"垂体GH瘤-男\",\"flag\":0},{\"type\":\"现病史|3|10.0100.0489\",\"number\":\"18\",\"label\":\"患者精神\",\"name\":\"SpiritCondition\",\"inputType\":\"单选组合\",\"options\":\"好|不好\",\"defaultValue\":\"好\",\"unit\":null,\"required\":null,\"children\":[{\"type\":\"现病史|3|10.0100.0489\",\"number\":\"18.1\",\"label\":\"不好\",\"name\":\"jszt\",\"inputType\":\"文本框\",\"options\":\"请输入精神状况\",\"defaultValue\":null,\"unit\":null,\"required\":null,\"children\":[],\"sheetName\":\"垂体GH瘤-男\",\"value\":\"\",\"flag\":0}],\"sheetName\":\"垂体GH瘤-男\",\"value\":\"好\",\"flag\":0},{\"type\":\"现病史|3|10.0100.0489\",\"number\":\"19\",\"label\":\"胃纳\",\"name\":\"GastricCondition\",\"inputType\":\"单选组合\",\"options\":\"可|不可\",\"defaultValue\":\"可\",\"unit\":null,\"required\":null,\"children\":[],\"sheetName\":\"垂体GH瘤-男\",\"value\":\"可\",\"flag\":0},{\"type\":\"现病史|3|10.0100.0489\",\"number\":\"20\",\"label\":\"睡眠\",\"name\":\"SleepingCondition\",\"inputType\":\"单选组合\",\"options\":\"好|不好\",\"defaultValue\":\"好\",\"unit\":null,\"required\":null,\"children\":[{\"type\":\"现病史|3|10.0100.0489\",\"number\":\"20.1\",\"label\":\"不好\",\"name\":\"smqk\",\"inputType\":\"文本框\",\"options\":\"请输入睡眠状况\",\"defaultValue\":null,\"unit\":null,\"required\":null,\"children\":[],\"sheetName\":\"垂体GH瘤-男\",\"value\":\"\",\"flag\":0}],\"sheetName\":\"垂体GH瘤-男\",\"value\":\"好\",\"flag\":0},{\"type\":\"现病史|3|10.0100.0489\",\"number\":\"21\",\"label\":\"大小便\",\"name\":\"StoolCondition\",\"inputType\":\"单选组合\",\"options\":\"正常|不正常\",\"defaultValue\":null,\"unit\":null,\"required\":null,\"children\":[{\"type\":\"现病史|3|10.0100.0489\",\"number\":\"21.1\",\"label\":\"不正常\",\"name\":\"dxbqk\",\"inputType\":\"文本框\",\"options\":\"请输入大小便情况\",\"defaultValue\":null,\"unit\":null,\"required\":null,\"children\":[],\"sheetName\":\"垂体GH瘤-男\",\"value\":\"\",\"flag\":0}],\"sheetName\":\"垂体GH瘤-男\",\"flag\":0},{\"type\":\"现病史|3|10.0100.0489\",\"number\":\"22\",\"label\":\"体重下降\",\"name\":\"WeightChangeCondition\",\"inputType\":\"单选组合\",\"options\":\"无体重明显下降|有体重明显下降\",\"defaultValue\":null,\"unit\":null,\"required\":null,\"children\":[{\"type\":\"现病史|3|10.0100.0489\",\"number\":\"22.1\",\"label\":\"有体重明显下降\",\"name\":\"tzxjqk\",\"inputType\":\"文本框\",\"options\":\"请输入体重下降情况\",\"defaultValue\":null,\"unit\":null,\"required\":null,\"children\":[],\"sheetName\":\"垂体GH瘤-男\",\"value\":\"\",\"flag\":0}],\"sheetName\":\"垂体GH瘤-男\",\"flag\":0},{\"type\":\"现病史|3|10.0100.0489\",\"number\":\"23\",\"label\":\"现用药\",\"name\":\"数据元41\",\"inputType\":\"文本框\",\"options\":\"请填写化学名或通用名\",\"defaultValue\":null,\"unit\":null,\"required\":null,\"children\":[],\"sheetName\":\"垂体GH瘤-男\",\"value\":\"\",\"flag\":0},{\"type\":\"现病史|3|10.0100.0489\",\"number\":\"24\",\"label\":\"新型冠状病毒肺炎风险评估流行病学史\",\"name\":\"XGFYBDHSKTJC_HLBXS\",\"inputType\":\"单选\",\"options\":\"阴性|阳性\",\"defaultValue\":null,\"unit\":null,\"required\":null,\"children\":[],\"sheetName\":\"垂体GH瘤-男\",\"flag\":0}]'\n",
    "\n",
    "\n",
    "\n",
    "speech = '''\n",
    "患者：医生您好，我月经紊乱3年多了，也不知道原因是什么。\n",
    "医生：月经紊乱前是否生活压力很大？或者生活中出现了重大变故？\n",
    "患者：没有，都挺正常的。\n",
    "医生：例假会持续多长时间？量正常嘛？\n",
    "患者：可能要有7、8天左右，量比较少。\n",
    "医生：之前有没有去看过医生？\n",
    "患者：2023年5月份的时候参加体检发现泌乳素升高，然后就去我们本地的医院看来着，医生让我做一个垂体的磁共振，报告上说怀疑是垂体腺瘤。\n",
    "医生：那后来给你开了什么药物？有没有做过放射治疗？\n",
    "患者：没有。\n",
    "医生：那你自己有没有找什么药吃？\n",
    "患者：没有。\n",
    "医生：这几年你有没有觉得看东西没有以前清楚了？看到的视野跟原来一样大吗？\n",
    "患者：我视力还好，这几年里没什么变化。\n",
    "医生：眼睑呢？跟之前比有没有什么变化？\n",
    "患者：没有，没什么变化。\n",
    "医生：我看你身高特别高，具体是多高啊？\n",
    "患者：医生我身高2米5。\n",
    "医生：那你这个就是巨人症啊，有没有觉得手脚比以前胖了？\n",
    "患者：没有。\n",
    "医生：这几年有变胖嘛？身上有那种变胖之后的纹路嘛？\n",
    "患者：没有，这几年我体重没什么变化，没变胖。\n",
    "医生：那有没有心悸、胸闷之类的感觉？\n",
    "患者：没有，没有这些感觉。\n",
    "医生：有孩子了嘛？\n",
    "患者：有孩子了。\n",
    "医生：有溢乳嘛？\n",
    "患者：没有。\n",
    "医生：以前做过什么手术嘛？\n",
    "患者：没做过手术。\n",
    "医生：胃口怎么样？会觉得吃的东西不怎么消化嘛？\n",
    "患者：吃东西都挺正常的，没有那种积食的感觉。\n",
    "医生：晚上睡眠质量怎么样？\n",
    "患者：睡眠质量挺好的，到时间就能正常睡觉。\n",
    "医生：大小便有什么异常没有？比如尿频、尿痛之类的情况？\n",
    "患者：没有。\n",
    "'''"
   ]
  },
  {
   "cell_type": "code",
   "execution_count": 3,
   "id": "e4503dbe",
   "metadata": {
    "scrolled": true
   },
   "outputs": [
    {
     "name": "stdout",
     "output_type": "stream",
     "text": [
      "{'type': '现病史|3|10.0100.0489', 'number': '1', 'label': '年份', 'name': 'DiseaseTime_Year', 'inputType': '年份', 'options': 'YYY', 'defaultValue': None, 'unit': None, 'required': None, 'children': [], 'sheetName': '垂体GH瘤-男', 'value': '', 'flag': 0}\n",
      "{'type': '现病史|3|10.0100.0489', 'number': '2', 'label': '月份', 'name': 'DiseaseTime_Month', 'inputType': '月份', 'options': 'MM', 'defaultValue': None, 'unit': None, 'required': None, 'children': [], 'sheetName': '垂体GH瘤-男', 'value': '', 'flag': 0}\n",
      "{'type': '现病史|3|10.0100.0489', 'number': '3', 'label': '面貌改变', 'name': 'ClinicalFeature', 'inputType': '多选', 'options': '面貌改变|手足增大|多汗|巨人症|头疼|性功能下降', 'defaultValue': None, 'unit': None, 'required': None, 'children': [{'type': '现病史|3|10.0100.0489', 'number': '3.1', 'label': '面貌改变', 'name': 'FaceChange', 'inputType': '单选', 'options': '唇鼻肥大|前额突出|颧骨突出|颌骨突出', 'defaultValue': None, 'unit': None, 'required': None, 'children': [], 'sheetName': '垂体GH瘤-男', 'flag': 0}, {'type': '现病史|3|10.0100.0489', 'number': '3.2', 'label': '巨人症', 'name': 'Heitgh', 'inputType': '文本框', 'options': '请输入身高', 'defaultValue': None, 'unit': 'CM', 'required': None, 'children': [], 'sheetName': '垂体GH瘤-男', 'value': '', 'flag': 0}], 'sheetName': '垂体GH瘤-男', 'value': ['巨人症'], 'flag': 1}\n",
      "{'type': '现病史|3|10.0100.0489', 'number': '4', 'label': '医院', 'name': 'FirstHospitalName', 'inputType': '文本框', 'options': '请输入医院名称', 'defaultValue': None, 'unit': None, 'required': None, 'children': [], 'sheetName': '垂体GH瘤-男', 'value': '', 'flag': 0}\n",
      "{'type': '现病史|3|10.0100.0489', 'number': '5', 'label': '生长激素结果', 'name': 'GrowthHormoneResults', 'inputType': '文本框', 'options': '请输入生长激素结果', 'defaultValue': None, 'unit': None, 'required': None, 'children': [], 'sheetName': '垂体GH瘤-男', 'value': '', 'flag': 0}\n",
      "{'type': '现病史|3|10.0100.0489', 'number': '6', 'label': 'OGTTGH 谷值', 'name': 'OGTTGHResult', 'inputType': '文本框', 'options': '请输入OGTTGH 谷值', 'defaultValue': None, 'unit': None, 'required': None, 'children': [], 'sheetName': '垂体GH瘤-男', 'value': '', 'flag': 0}\n",
      "{'type': '现病史|3|10.0100.0489', 'number': '7', 'label': 'IGF-1结果', 'name': 'IGf_1Result', 'inputType': '文本框', 'options': '请输入IGF-1结果', 'defaultValue': None, 'unit': None, 'required': None, 'children': [], 'sheetName': '垂体GH瘤-男', 'value': '', 'flag': 0}\n",
      "{'type': '现病史|3|10.0100.0489', 'number': '8', 'label': '影像学结果值', 'name': 'ImagingResults', 'inputType': '文本框', 'options': '请输入影像学结果值', 'defaultValue': None, 'unit': None, 'required': None, 'children': [], 'sheetName': '垂体GH瘤-男', 'value': '', 'flag': 0}\n",
      "{'type': '现病史|3|10.0100.0489', 'number': '9', 'label': '请选择', 'name': 'AlwaysUse', 'inputType': '单选', 'options': '曾使用|未使用生长激素', 'defaultValue': None, 'unit': None, 'required': None, 'children': [{'type': '现病史|3|10.0100.0489', 'number': '9.1', 'label': '曾使用', 'name': 'AlwaysUse_Hormone', 'inputType': '多选', 'options': '索玛卡林|善龙|兰瑞肽；', 'defaultValue': None, 'unit': None, 'required': None, 'children': [{'type': '现病史|3|10.0100.0489', 'number': '9.1.1', 'label': '索玛卡林', 'name': None, 'inputType': None, 'options': None, 'defaultValue': None, 'unit': None, 'required': None, 'children': [{'type': '现病史|3|10.0100.0489', 'number': '9.1.1.1', 'label': '开始使用药品时间', 'name': 'AlwaysUse_Hormone_statcTimeSomCarlin', 'inputType': '日期', 'options': '请输入', 'defaultValue': None, 'unit': None, 'required': None, 'children': [], 'sheetName': '垂体GH瘤-男'}, {'type': '现病史|3|10.0100.0489', 'number': '9.1.1.2', 'label': '药品名', 'name': 'AlwaysUse_Hormone_DrugNameSomCarlin', 'inputType': '文本框', 'options': '请输入', 'defaultValue': None, 'unit': None, 'required': None, 'children': [], 'sheetName': '垂体GH瘤-男'}, {'type': '现病史|3|10.0100.0489', 'number': '9.1.1.3', 'label': '剂量', 'name': 'AlwaysUse_Hormone_DrugDoseSomCarlin', 'inputType': '文本框', 'options': '请输入', 'defaultValue': None, 'unit': None, 'required': None, 'children': [], 'sheetName': '垂体GH瘤-男'}, {'type': '现病史|3|10.0100.0489', 'number': '9.1.1.4', 'label': '复查时间', 'name': 'AlwaysUse_Hormone_ReviewTimeSomCarlin', 'inputType': '日期', 'options': '请输入', 'defaultValue': None, 'unit': None, 'required': None, 'children': [], 'sheetName': '垂体GH瘤-男'}, {'type': '现病史|3|10.0100.0489', 'number': '9.1.1.5', 'label': '检查结果', 'name': 'AlwaysUse_Hormone_ResultSomCarlin', 'inputType': '文本框', 'options': '请输入', 'defaultValue': None, 'unit': None, 'required': None, 'children': [], 'sheetName': '垂体GH瘤-男'}, {'type': '现病史|3|10.0100.0489', 'number': '9.1.1.6', 'label': '治疗效果跟治疗时间', 'name': 'AlwaysUse_Hormone_EffectAndTimeSomCarlin', 'inputType': '文本框', 'options': '请输入', 'defaultValue': None, 'unit': None, 'required': None, 'children': [], 'sheetName': '垂体GH瘤-男'}], 'sheetName': '垂体GH瘤-男'}, {'type': '现病史|3|10.0100.0489', 'number': '9.1.2', 'label': '善龙', 'name': None, 'inputType': None, 'options': None, 'defaultValue': None, 'unit': None, 'required': None, 'children': [{'type': '现病史|3|10.0100.0489', 'number': '9.1.2.1', 'label': '开始使用药品时间', 'name': 'AlwaysUse_Hormone_statcTimeDragon', 'inputType': '日期', 'options': '请输入', 'defaultValue': None, 'unit': None, 'required': None, 'children': [], 'sheetName': '垂体GH瘤-男'}, {'type': '现病史|3|10.0100.0489', 'number': '9.1.2.2', 'label': '药品名', 'name': 'AlwaysUse_Hormone_DrugNameDragon', 'inputType': '文本框', 'options': '请输入', 'defaultValue': None, 'unit': None, 'required': None, 'children': [], 'sheetName': '垂体GH瘤-男'}, {'type': '现病史|3|10.0100.0489', 'number': '9.1.2.3', 'label': '剂量', 'name': 'AlwaysUse_Hormone_DrugDoseDragon', 'inputType': '文本框', 'options': '请输入', 'defaultValue': None, 'unit': None, 'required': None, 'children': [], 'sheetName': '垂体GH瘤-男'}, {'type': '现病史|3|10.0100.0489', 'number': '9.1.2.4', 'label': '复查时间', 'name': 'AlwaysUse_Hormone_ReviewTimeDragon', 'inputType': '日期', 'options': '请输入', 'defaultValue': None, 'unit': None, 'required': None, 'children': [], 'sheetName': '垂体GH瘤-男'}, {'type': '现病史|3|10.0100.0489', 'number': '9.1.2.5', 'label': '检查结果', 'name': 'AlwaysUse_Hormone_ResultDragon', 'inputType': '文本框', 'options': '请输入', 'defaultValue': None, 'unit': None, 'required': None, 'children': [], 'sheetName': '垂体GH瘤-男'}, {'type': '现病史|3|10.0100.0489', 'number': '9.1.2.6', 'label': '治疗效果跟治疗时间', 'name': 'AlwaysUse_Hormone_EffectAndTimeDragon', 'inputType': '文本框', 'options': '请输入', 'defaultValue': None, 'unit': None, 'required': None, 'children': [], 'sheetName': '垂体GH瘤-男'}], 'sheetName': '垂体GH瘤-男'}, {'type': '现病史|3|10.0100.0489', 'number': '9.1.3', 'label': '兰瑞肽', 'name': None, 'inputType': None, 'options': None, 'defaultValue': None, 'unit': None, 'required': None, 'children': [{'type': '现病史|3|10.0100.0489', 'number': '9.1.3.1', 'label': '开始使用药品时间', 'name': 'AlwaysUse_Hormone_statcTimeLanreotide', 'inputType': '日期', 'options': '请输入', 'defaultValue': None, 'unit': None, 'required': None, 'children': [], 'sheetName': '垂体GH瘤-男'}, {'type': '现病史|3|10.0100.0489', 'number': '9.1.3.2', 'label': '药品名', 'name': 'AlwaysUse_Hormone_DrugNameLanreotide', 'inputType': '文本框', 'options': '请输入', 'defaultValue': None, 'unit': None, 'required': None, 'children': [], 'sheetName': '垂体GH瘤-男'}, {'type': '现病史|3|10.0100.0489', 'number': '9.1.3.3', 'label': '剂量', 'name': 'AlwaysUse_Hormone_DrugDoseLanreotide', 'inputType': '文本框', 'options': '请输入', 'defaultValue': None, 'unit': 'mg', 'required': None, 'children': [], 'sheetName': '垂体GH瘤-男'}, {'type': '现病史|3|10.0100.0489', 'number': '9.1.3.4', 'label': '复查时间', 'name': 'AlwaysUse_Hormone_ReviewTimeLanreotide', 'inputType': '日期', 'options': '请输入', 'defaultValue': None, 'unit': None, 'required': None, 'children': [], 'sheetName': '垂体GH瘤-男'}, {'type': '现病史|3|10.0100.0489', 'number': '9.1.3.5', 'label': '检查结果', 'name': 'AlwaysUse_Hormone_ResultLanreotide', 'inputType': '文本框', 'options': '请输入', 'defaultValue': None, 'unit': None, 'required': None, 'children': [], 'sheetName': '垂体GH瘤-男'}, {'type': '现病史|3|10.0100.0489', 'number': '9.1.3.6', 'label': '治疗效果跟治疗时间', 'name': 'AlwaysUse_Hormone_EffectAndTimeLanreotide', 'inputType': '文本框', 'options': '请输入', 'defaultValue': None, 'unit': None, 'required': None, 'children': [], 'sheetName': '垂体GH瘤-男'}], 'sheetName': '垂体GH瘤-男'}], 'sheetName': '垂体GH瘤-男', 'flag': 0}], 'sheetName': '垂体GH瘤-男', 'flag': 0}\n",
      "{'type': '现病史|3|10.0100.0489', 'number': '10', 'label': '视力减退、视野缺损', 'name': 'haveHypoacuity', 'inputType': '单选', 'options': '有|无', 'defaultValue': '无', 'unit': None, 'required': None, 'children': [], 'sheetName': '垂体GH瘤-男', 'value': '有', 'flag': 1}\n",
      "{'type': '现病史|3|10.0100.0489', 'number': '11', 'label': '眼睑下垂', 'name': 'DroopingEyelids', 'inputType': '单选', 'options': '有|无', 'defaultValue': '无', 'unit': None, 'required': None, 'children': [], 'sheetName': '垂体GH瘤-男', 'value': '无', 'flag': 0}\n",
      "{'type': '现病史|3|10.0100.0489', 'number': '12', 'label': '向心性肥胖紫纹', 'name': 'CardiogenicFatLines', 'inputType': '单选', 'options': '有|无', 'defaultValue': '无', 'unit': None, 'required': None, 'children': [], 'sheetName': '垂体GH瘤-男', 'value': '无', 'flag': 0}\n",
      "{'type': '现病史|3|10.0100.0489', 'number': '13', 'label': '性功能减退', 'name': 'SexualFunction', 'inputType': '单选', 'options': '有|无', 'defaultValue': '无', 'unit': None, 'required': None, 'children': [], 'sheetName': '垂体GH瘤-男', 'value': '无', 'flag': 0}\n",
      "{'type': '现病史|3|10.0100.0489', 'number': '14', 'label': '心悸胸闷', 'name': 'Palpitation', 'inputType': '单选', 'options': '有|无', 'defaultValue': '无', 'unit': None, 'required': None, 'children': [], 'sheetName': '垂体GH瘤-男', 'value': '无', 'flag': 0}\n",
      "{'type': '现病史|3|10.0100.0489', 'number': '15', 'label': '生长抑素治疗', 'name': 'AlwaysTreat', 'inputType': '单选', 'options': '曾使用|未使用', 'defaultValue': None, 'unit': None, 'required': None, 'children': [], 'sheetName': '垂体GH瘤-男', 'flag': 0}\n",
      "{'type': '现病史|3|10.0100.0489', 'number': '16', 'label': '放射治疗', 'name': 'Radiotherapy', 'inputType': '单选', 'options': '曾进行|未进行', 'defaultValue': None, 'unit': None, 'required': None, 'children': [], 'sheetName': '垂体GH瘤-男', 'flag': 0}\n",
      "{'type': '现病史|3|10.0100.0489', 'number': '17', 'label': '手术治疗', 'name': 'OperativeTreatment', 'inputType': '单选', 'options': '曾进行|未进行', 'defaultValue': None, 'unit': None, 'required': None, 'children': [], 'sheetName': '垂体GH瘤-男', 'flag': 0}\n",
      "{'type': '现病史|3|10.0100.0489', 'number': '18', 'label': '患者精神', 'name': 'SpiritCondition', 'inputType': '单选组合', 'options': '好|不好', 'defaultValue': '好', 'unit': None, 'required': None, 'children': [{'type': '现病史|3|10.0100.0489', 'number': '18.1', 'label': '不好', 'name': 'jszt', 'inputType': '文本框', 'options': '请输入精神状况', 'defaultValue': None, 'unit': None, 'required': None, 'children': [], 'sheetName': '垂体GH瘤-男', 'value': '', 'flag': 0}], 'sheetName': '垂体GH瘤-男', 'value': '好', 'flag': 0}\n",
      "{'type': '现病史|3|10.0100.0489', 'number': '19', 'label': '胃纳', 'name': 'GastricCondition', 'inputType': '单选组合', 'options': '可|不可', 'defaultValue': '可', 'unit': None, 'required': None, 'children': [], 'sheetName': '垂体GH瘤-男', 'value': '可', 'flag': 0}\n",
      "{'type': '现病史|3|10.0100.0489', 'number': '20', 'label': '睡眠', 'name': 'SleepingCondition', 'inputType': '单选组合', 'options': '好|不好', 'defaultValue': '好', 'unit': None, 'required': None, 'children': [{'type': '现病史|3|10.0100.0489', 'number': '20.1', 'label': '不好', 'name': 'smqk', 'inputType': '文本框', 'options': '请输入睡眠状况', 'defaultValue': None, 'unit': None, 'required': None, 'children': [], 'sheetName': '垂体GH瘤-男', 'value': '', 'flag': 0}], 'sheetName': '垂体GH瘤-男', 'value': '好', 'flag': 0}\n",
      "{'type': '现病史|3|10.0100.0489', 'number': '21', 'label': '大小便', 'name': 'StoolCondition', 'inputType': '单选组合', 'options': '正常|不正常', 'defaultValue': None, 'unit': None, 'required': None, 'children': [{'type': '现病史|3|10.0100.0489', 'number': '21.1', 'label': '不正常', 'name': 'dxbqk', 'inputType': '文本框', 'options': '请输入大小便情况', 'defaultValue': None, 'unit': None, 'required': None, 'children': [], 'sheetName': '垂体GH瘤-男', 'value': '', 'flag': 0}], 'sheetName': '垂体GH瘤-男', 'flag': 0}\n",
      "{'type': '现病史|3|10.0100.0489', 'number': '22', 'label': '体重下降', 'name': 'WeightChangeCondition', 'inputType': '单选组合', 'options': '无体重明显下降|有体重明显下降', 'defaultValue': None, 'unit': None, 'required': None, 'children': [{'type': '现病史|3|10.0100.0489', 'number': '22.1', 'label': '有体重明显下降', 'name': 'tzxjqk', 'inputType': '文本框', 'options': '请输入体重下降情况', 'defaultValue': None, 'unit': None, 'required': None, 'children': [], 'sheetName': '垂体GH瘤-男', 'value': '', 'flag': 0}], 'sheetName': '垂体GH瘤-男', 'flag': 0}\n",
      "{'type': '现病史|3|10.0100.0489', 'number': '23', 'label': '现用药', 'name': '数据元41', 'inputType': '文本框', 'options': '请填写化学名或通用名', 'defaultValue': None, 'unit': None, 'required': None, 'children': [], 'sheetName': '垂体GH瘤-男', 'value': '', 'flag': 0}\n",
      "{'type': '现病史|3|10.0100.0489', 'number': '24', 'label': '新型冠状病毒肺炎风险评估流行病学史', 'name': 'XGFYBDHSKTJC_HLBXS', 'inputType': '单选', 'options': '阴性|阳性', 'defaultValue': None, 'unit': None, 'required': None, 'children': [], 'sheetName': '垂体GH瘤-男', 'flag': 0}\n"
     ]
    }
   ],
   "source": [
    "target = json.loads(target_json)\n",
    "def outputType(inputType=\"all\"):\n",
    "    if inputType == \"all\":\n",
    "        for i in target:\n",
    "            print(i)\n",
    "        return \n",
    "\n",
    "    for i in target:\n",
    "        if i[\"inputType\"] == inputType:\n",
    "            print(i)\n",
    "outputType()"
   ]
  },
  {
   "cell_type": "code",
   "execution_count": 4,
   "id": "6140fba1",
   "metadata": {
    "scrolled": false
   },
   "outputs": [
    {
     "name": "stdout",
     "output_type": "stream",
     "text": [
      "{'type': '现病史|3|10.0100.0489', 'number': '3', 'label': '面貌改变', 'name': 'ClinicalFeature', 'inputType': '多选', 'options': '面貌改变|手足增大|多汗|巨人症|头疼|性功能下降', 'defaultValue': None, 'unit': None, 'required': None, 'children': [], 'sheetName': '垂体GH瘤-男', 'value': ['巨人症'], 'flag': 1}\n",
      "以上内容Removed，并转换为单选形式.\n",
      "{'type': '现病史|3|10.0100.0489', 'number': '9.1', 'label': '曾使用', 'name': 'AlwaysUse_Hormone', 'inputType': '多选', 'options': '索玛卡林|善龙|兰瑞肽；', 'defaultValue': None, 'unit': None, 'required': None, 'children': [], 'sheetName': '垂体GH瘤-男', 'flag': 0}\n",
      "以上内容Removed，并转换为单选形式.\n",
      "!!!!!!!!!!!!!!!!!!!!!!!!!!!!!!!!!!!!!!!!\n",
      "{'type': '现病史|3|10.0100.0489', 'number': '4', 'label': '曾就诊医院', 'name': 'FirstHospitalName', 'inputType': '文本框', 'options': '请输入医院名称', 'defaultValue': None, 'unit': None, 'required': None, 'children': [], 'sheetName': '垂体GH瘤-男', 'value': '', 'flag': 0}\n",
      "!!!!!!!!!!!!!!!!!!!!!!!!!!!!!!!!!!!!!!!!\n"
     ]
    }
   ],
   "source": [
    "# 第二版处理方式\n",
    "\n",
    "\n",
    "#       多选  和 文本框 有问题；还有一个“请选择”；childern字段中有内容代表有嵌套\n",
    "# 多选变成多个单选，加入target\n",
    "# “请选择” 换成具备语义信息的内容\n",
    "#\n",
    "# 文本框后面单独处理\n",
    "\n",
    "\n",
    "\n",
    "# 对target中的内容进行调整\n",
    "# 修改页面上无意义的标签\n",
    "label2origin = dict()\n",
    "\n",
    "for i in target:\n",
    "    for child in i[\"children\"]:\n",
    "        target.append(child)\n",
    "    i[\"children\"] = []\n",
    "\n",
    "    if i[\"number\"] == \"20.1\":\n",
    "        new_label = \"睡眠不佳缘由\"\n",
    "        label2origin[new_label] = i[\"label\"]\n",
    "        i[\"label\"] = new_label\n",
    "    \n",
    "    if i[\"label\"] == \"请选择\":\n",
    "        i[\"label\"] = \"生长激素\"\n",
    "        i[\"options\"] = \"曾使用|未使用\"\n",
    "    \n",
    "    # 面貌改变(多选) -> 面貌改变|手足增大|多汗|巨人症|头疼|性功能下降\n",
    "    # 曾使用（多选） -> 索玛卡林|善龙|兰瑞肽\n",
    "    if i[\"inputType\"] == \"多选\":\n",
    "        print(i)\n",
    "        items = i[\"options\"].strip().split(\"|\")\n",
    "        for idx,item in enumerate(items):\n",
    "            target.append({\n",
    "                \"number\" : i[\"number\"] + \".\" + str(idx + 1)\n",
    "                ,\"label\" : item\n",
    "                ,\"inputType\" : \"单选\"\n",
    "                ,\"options\" : \"有|无\"\n",
    "                ,\"children\" : []\n",
    "            })\n",
    "        target.remove(i)\n",
    "        print(f\"以上内容Removed，并转换为单选形式.\")\n",
    "\n",
    "\n",
    "for i in target:\n",
    "    \n",
    "    if i[\"label\"] == \"医院\":\n",
    "        print(\"!\" * 40)\n",
    "        new_label = \"曾就诊医院\"\n",
    "        label2origin[new_label] = i[\"label\"]\n",
    "        i[\"label\"] = new_label\n",
    "        print(i)\n",
    "        print(\"!\" * 40)\n",
    "        \n",
    "    if i[\"number\"] == \"18.1\":\n",
    "        new_label = \"精神不佳缘由\"\n",
    "        label2origin[new_label] = i[\"label\"]\n",
    "        i[\"label\"] = new_label\n",
    "        \n",
    "    if i[\"number\"] == \"21.1\":\n",
    "        new_label = \"大小便异常症状\"\n",
    "        label2origin[new_label] = i[\"label\"]\n",
    "        i[\"label\"] = new_label\n",
    "        \n",
    "        \n",
    "        \n",
    "target = [i for i in target if i[\"label\"] not in [\"开始使用药品时间\",\"药品名\",\"剂量\",\"复查时间\",\"检查结果\",\"治疗效果跟治疗时间\"]]\n",
    "\n",
    "# 将页面上的“治疗效果跟治疗时间”拆为两个字段\n",
    "for idx,i in enumerate([\"索玛卡林\",\"善龙\",\"兰瑞肽\"]):\n",
    "    for _idx,_detail in enumerate([\"开始使用药品时间\",\"药品名\",\"使用剂量\",\"复查时间\",\"检查结果\",\"治疗效果\",\"治疗时间\"]):\n",
    "        target.append({\n",
    "                    \"number\" : \"9.1.\" + str(idx + 1) + \".\" + str(_idx + 1)\n",
    "                    ,\"label\" : i + \"-\" + _detail\n",
    "                    ,\"inputType\" : \"文本框\"\n",
    "                    ,\"options\" : f\"请填入使用{i}时的{_detail}\"\n",
    "                    ,\"children\" : []\n",
    "                })\n",
    "        \n",
    "\n",
    "\n",
    "\n",
    "for i in target:\n",
    "    if i[\"options\"] and i[\"options\"].count(\"|\") > 1 :\n",
    "        i [\"inputType\"] = \"多选\"\n",
    "    if i[\"inputType\"] == \"文本框\" :\n",
    "        i[\"options\"] += \"，若未提及则填入空串\"\n",
    "    if i.get(\"name\",None) and i[\"name\"] == \"jszt\" :\n",
    "        i[\"label\"] == \"精神状态不佳原因\"\n",
    "    if i.get(\"name\",None) and i[\"name\"] == \"smqk\":\n",
    "        i[\"label\"] == \"睡眠不佳原因\"\n",
    "# print(f\"目前target为:\")\n",
    "# for i in target:\n",
    "#     print(i)\n",
    "\n"
   ]
  },
  {
   "cell_type": "code",
   "execution_count": 5,
   "id": "1610be9d",
   "metadata": {},
   "outputs": [
    {
     "name": "stdout",
     "output_type": "stream",
     "text": [
      "{'多选': '', '月份': '', '单选组合': '', '单选': '', None: '', '文本框': '', '年份': ''}\n"
     ]
    }
   ],
   "source": [
    "items = list({i[\"inputType\"] for i in target})\n",
    "# 能用itemsMapping的用itemsMapping，用不了的比如“文本框”类型，就用labelMapping\n",
    "itemsMapping = {i : \"\" for i in items}\n",
    "print(itemsMapping)"
   ]
  },
  {
   "cell_type": "code",
   "execution_count": 6,
   "id": "0e8ce254",
   "metadata": {},
   "outputs": [
    {
     "name": "stdout",
     "output_type": "stream",
     "text": [
      "多选 该项需要从[options]中选择若干项作为内容\n",
      "月份 该项需要填入当前月份\n",
      "单选组合 该项需要从[options]中选择一项作为内容，若未明确提及则填入空串\n",
      "单选 该项需要从[options]中选择一项作为内容，若未明确提及则填入空串\n",
      "None \n",
      "文本框 \n",
      "年份 该项需要填入当前年份\n"
     ]
    }
   ],
   "source": [
    "# 为病历中每种输入类型编写prompt\n",
    "\n",
    "itemsMapping[\"单选\"] = f\"该项需要从[options]中选择一项作为内容，若未明确提及则填入空串\"\n",
    "itemsMapping[\"多选\"] = f\"该项需要从[options]中选择若干项作为内容\"\n",
    "itemsMapping[\"年份\"] = f\"该项需要填入当前年份\"\n",
    "itemsMapping[\"月份\"] = f\"该项需要填入当前月份\"\n",
    "itemsMapping[\"单选组合\"] = f\"该项需要从[options]中选择一项作为内容，若未明确提及则填入空串\"\n",
    "for k,v in itemsMapping.items():\n",
    "    print(k,v)"
   ]
  },
  {
   "cell_type": "code",
   "execution_count": 7,
   "id": "26245400",
   "metadata": {},
   "outputs": [
    {
     "name": "stdout",
     "output_type": "stream",
     "text": [
      "当前病历模板为：\n",
      "\n",
      "年份 该项需要填入当前年份\n",
      "月份 该项需要填入当前月份\n",
      "曾就诊医院 该项需要填入医院名称，若未提及则填入空串\n",
      "生长激素结果 该项需要填入生长激素结果，若未提及则填入空串\n",
      "OGTTGH 谷值 该项需要填入OGTTGH 谷值，若未提及则填入空串\n",
      "IGF-1结果 该项需要填入IGF-1结果，若未提及则填入空串\n",
      "影像学结果值 该项需要填入影像学结果值，若未提及则填入空串\n",
      "生长激素 该项需要从[曾使用、未使用]中选择一项作为内容，若未明确提及则填入空串\n",
      "视力减退、视野缺损 该项需要从[有、无]中选择一项作为内容，若未明确提及则填入空串\n",
      "眼睑下垂 该项需要从[有、无]中选择一项作为内容，若未明确提及则填入空串\n",
      "向心性肥胖紫纹 该项需要从[有、无]中选择一项作为内容，若未明确提及则填入空串\n",
      "性功能减退 该项需要从[有、无]中选择一项作为内容，若未明确提及则填入空串\n",
      "心悸胸闷 该项需要从[有、无]中选择一项作为内容，若未明确提及则填入空串\n",
      "生长抑素治疗 该项需要从[曾使用、未使用]中选择一项作为内容，若未明确提及则填入空串\n",
      "放射治疗 该项需要从[曾进行、未进行]中选择一项作为内容，若未明确提及则填入空串\n",
      "手术治疗 该项需要从[曾进行、未进行]中选择一项作为内容，若未明确提及则填入空串\n",
      "患者精神 该项需要从[好、不好]中选择一项作为内容，若未明确提及则填入空串\n",
      "胃纳 该项需要从[可、不可]中选择一项作为内容，若未明确提及则填入空串\n",
      "睡眠 该项需要从[好、不好]中选择一项作为内容，若未明确提及则填入空串\n",
      "大小便 该项需要从[正常、不正常]中选择一项作为内容，若未明确提及则填入空串\n",
      "体重下降 该项需要从[无体重明显下降、有体重明显下降]中选择一项作为内容，若未明确提及则填入空串\n",
      "现用药 请填写化学名或通用名，若未提及则填入空串\n",
      "面貌改变 该项需要从[有、无]中选择一项作为内容，若未明确提及则填入空串\n",
      "巨人症 该项需要从[有、无]中选择一项作为内容，若未明确提及则填入空串\n",
      "手足增大 该项需要从[有、无]中选择一项作为内容，若未明确提及则填入空串\n",
      "多汗 该项需要从[有、无]中选择一项作为内容，若未明确提及则填入空串\n",
      "头疼 该项需要从[有、无]中选择一项作为内容，若未明确提及则填入空串\n",
      "性功能下降 该项需要从[有、无]中选择一项作为内容，若未明确提及则填入空串\n",
      "精神不佳缘由 该项需要填入精神状况，若未提及则填入空串\n",
      "睡眠不佳缘由 该项需要填入睡眠状况，若未提及则填入空串\n",
      "大小便异常症状 该项需要填入大小便情况，若未提及则填入空串\n",
      "有体重明显下降 该项需要填入体重下降情况，若未提及则填入空串\n",
      "索玛卡林-开始使用药品时间 请填入使用索玛卡林时的开始使用药品时间，若未提及则填入空串\n",
      "索玛卡林-药品名 请填入使用索玛卡林时的药品名，若未提及则填入空串\n",
      "索玛卡林-使用剂量 请填入使用索玛卡林时的使用剂量，若未提及则填入空串\n",
      "索玛卡林-复查时间 请填入使用索玛卡林时的复查时间，若未提及则填入空串\n",
      "索玛卡林-检查结果 请填入使用索玛卡林时的检查结果，若未提及则填入空串\n",
      "索玛卡林-治疗效果 请填入使用索玛卡林时的治疗效果，若未提及则填入空串\n",
      "索玛卡林-治疗时间 请填入使用索玛卡林时的治疗时间，若未提及则填入空串\n",
      "善龙-开始使用药品时间 请填入使用善龙时的开始使用药品时间，若未提及则填入空串\n",
      "善龙-药品名 请填入使用善龙时的药品名，若未提及则填入空串\n",
      "善龙-使用剂量 请填入使用善龙时的使用剂量，若未提及则填入空串\n",
      "善龙-复查时间 请填入使用善龙时的复查时间，若未提及则填入空串\n",
      "善龙-检查结果 请填入使用善龙时的检查结果，若未提及则填入空串\n",
      "善龙-治疗效果 请填入使用善龙时的治疗效果，若未提及则填入空串\n",
      "善龙-治疗时间 请填入使用善龙时的治疗时间，若未提及则填入空串\n",
      "兰瑞肽-开始使用药品时间 请填入使用兰瑞肽时的开始使用药品时间，若未提及则填入空串\n",
      "兰瑞肽-药品名 请填入使用兰瑞肽时的药品名，若未提及则填入空串\n",
      "兰瑞肽-使用剂量 请填入使用兰瑞肽时的使用剂量，若未提及则填入空串\n",
      "兰瑞肽-复查时间 请填入使用兰瑞肽时的复查时间，若未提及则填入空串\n",
      "兰瑞肽-检查结果 请填入使用兰瑞肽时的检查结果，若未提及则填入空串\n",
      "兰瑞肽-治疗效果 请填入使用兰瑞肽时的治疗效果，若未提及则填入空串\n",
      "兰瑞肽-治疗时间 请填入使用兰瑞肽时的治疗时间，若未提及则填入空串\n",
      "曾使用索玛卡林 该项需要从[有、无]中选择一项作为内容，若未明确提及则填入空串\n",
      "曾使用善龙 该项需要从[有、无]中选择一项作为内容，若未明确提及则填入空串\n",
      "曾使用兰瑞肽 该项需要从[有、无]中选择一项作为内容，若未明确提及则填入空串\n",
      "新型冠状病毒核酸化验结果 该项需要从[阴性、阳性]中选择一项作为内容，若未明确提及则填入空串\n"
     ]
    }
   ],
   "source": [
    "\n",
    "labelMapping = defaultdict(str)\n",
    "for i in target:\n",
    "    if i[\"inputType\"] in itemsMapping and len(itemsMapping[i[\"inputType\"]]) > 0:\n",
    "        labelMapping[i[\"label\"]] = itemsMapping[i[\"inputType\"]] \n",
    "        options = i[\"options\"].strip().replace(\"|\",\"、\")\n",
    "        labelMapping[i[\"label\"]] = labelMapping[i[\"label\"]].replace(\"options\",options)\n",
    "    if i[\"inputType\"] == \"文本框\":\n",
    "        labelMapping[i[\"label\"]] = i[\"options\"].replace(\"请输入\",\"该项需要填入\")\n",
    "\n",
    "\n",
    "# 稍微调整病历内容\n",
    "labelMapping[\"曾使用索玛卡林\"] = labelMapping.pop(\"索玛卡林\")\n",
    "labelMapping[\"曾使用善龙\"] = labelMapping.pop(\"善龙\")\n",
    "labelMapping[\"曾使用兰瑞肽\"] = labelMapping.pop(\"兰瑞肽；\")\n",
    "labelMapping[\"新型冠状病毒核酸化验结果\"] = labelMapping.pop(\"新型冠状病毒肺炎风险评估流行病学史\")\n",
    "\n",
    "print(\"当前病历模板为：\\n\")\n",
    "for k,v in labelMapping.items():\n",
    "    print(k,v)"
   ]
  },
  {
   "cell_type": "code",
   "execution_count": 8,
   "id": "4fe500ed",
   "metadata": {},
   "outputs": [
    {
     "name": "stdout",
     "output_type": "stream",
     "text": [
      "请你扮演一位医生，根据和患者之间的对话为患者整理一份结构化病历，病历中所有包含的内容及要求会以json的形式给你。对话中未明确提及的内容，只能填入空字符串。注意不要将就诊日期和患者以往的就诊的日期混淆。json中包含键值对，键为病历中的内容，值为该内容的要求。json如下：{\"年份\": \"该项需要填入当前年份\", \"月份\": \"该项需要填入当前月份\", \"曾就诊医院\": \"该项需要填入医院名称，若未提及则填入空串\", \"生长激素结果\": \"该项需要填入生长激素结果，若未提及则填入空串\", \"OGTTGH 谷值\": \"该项需要填入OGTTGH 谷值，若未提及则填入空串\", \"IGF-1结果\": \"该项需要填入IGF-1结果，若未提及则填入空串\", \"影像学结果值\": \"该项需要填入影像学结果值，若未提及则填入空串\", \"生长激素\": \"该项需要从[曾使用、未使用]中选择一项作为内容，若未明确提及则填入空串\", \"视力减退、视野缺损\": \"该项需要从[有、无]中选择一项作为内容，若未明确提及则填入空串\", \"眼睑下垂\": \"该项需要从[有、无]中选择一项作为内容，若未明确提及则填入空串\", \"向心性肥胖紫纹\": \"该项需要从[有、无]中选择一项作为内容，若未明确提及则填入空串\", \"性功能减退\": \"该项需要从[有、无]中选择一项作为内容，若未明确提及则填入空串\", \"心悸胸闷\": \"该项需要从[有、无]中选择一项作为内容，若未明确提及则填入空串\", \"生长抑素治疗\": \"该项需要从[曾使用、未使用]中选择一项作为内容，若未明确提及则填入空串\", \"放射治疗\": \"该项需要从[曾进行、未进行]中选择一项作为内容，若未明确提及则填入空串\", \"手术治疗\": \"该项需要从[曾进行、未进行]中选择一项作为内容，若未明确提及则填入空串\", \"患者精神\": \"该项需要从[好、不好]中选择一项作为内容，若未明确提及则填入空串\", \"胃纳\": \"该项需要从[可、不可]中选择一项作为内容，若未明确提及则填入空串\", \"睡眠\": \"该项需要从[好、不好]中选择一项作为内容，若未明确提及则填入空串\", \"大小便\": \"该项需要从[正常、不正常]中选择一项作为内容，若未明确提及则填入空串\", \"体重下降\": \"该项需要从[无体重明显下降、有体重明显下降]中选择一项作为内容，若未明确提及则填入空串\", \"现用药\": \"请填写化学名或通用名，若未提及则填入空串\", \"面貌改变\": \"该项需要从[有、无]中选择一项作为内容，若未明确提及则填入空串\", \"巨人症\": \"该项需要从[有、无]中选择一项作为内容，若未明确提及则填入空串\", \"手足增大\": \"该项需要从[有、无]中选择一项作为内容，若未明确提及则填入空串\", \"多汗\": \"该项需要从[有、无]中选择一项作为内容，若未明确提及则填入空串\", \"头疼\": \"该项需要从[有、无]中选择一项作为内容，若未明确提及则填入空串\", \"性功能下降\": \"该项需要从[有、无]中选择一项作为内容，若未明确提及则填入空串\", \"精神不佳缘由\": \"该项需要填入精神状况，若未提及则填入空串\", \"睡眠不佳缘由\": \"该项需要填入睡眠状况，若未提及则填入空串\", \"大小便异常症状\": \"该项需要填入大小便情况，若未提及则填入空串\", \"有体重明显下降\": \"该项需要填入体重下降情况，若未提及则填入空串\", \"索玛卡林-开始使用药品时间\": \"请填入使用索玛卡林时的开始使用药品时间，若未提及则填入空串\", \"索玛卡林-药品名\": \"请填入使用索玛卡林时的药品名，若未提及则填入空串\", \"索玛卡林-使用剂量\": \"请填入使用索玛卡林时的使用剂量，若未提及则填入空串\", \"索玛卡林-复查时间\": \"请填入使用索玛卡林时的复查时间，若未提及则填入空串\", \"索玛卡林-检查结果\": \"请填入使用索玛卡林时的检查结果，若未提及则填入空串\", \"索玛卡林-治疗效果\": \"请填入使用索玛卡林时的治疗效果，若未提及则填入空串\", \"索玛卡林-治疗时间\": \"请填入使用索玛卡林时的治疗时间，若未提及则填入空串\", \"善龙-开始使用药品时间\": \"请填入使用善龙时的开始使用药品时间，若未提及则填入空串\", \"善龙-药品名\": \"请填入使用善龙时的药品名，若未提及则填入空串\", \"善龙-使用剂量\": \"请填入使用善龙时的使用剂量，若未提及则填入空串\", \"善龙-复查时间\": \"请填入使用善龙时的复查时间，若未提及则填入空串\", \"善龙-检查结果\": \"请填入使用善龙时的检查结果，若未提及则填入空串\", \"善龙-治疗效果\": \"请填入使用善龙时的治疗效果，若未提及则填入空串\", \"善龙-治疗时间\": \"请填入使用善龙时的治疗时间，若未提及则填入空串\", \"兰瑞肽-开始使用药品时间\": \"请填入使用兰瑞肽时的开始使用药品时间，若未提及则填入空串\", \"兰瑞肽-药品名\": \"请填入使用兰瑞肽时的药品名，若未提及则填入空串\", \"兰瑞肽-使用剂量\": \"请填入使用兰瑞肽时的使用剂量，若未提及则填入空串\", \"兰瑞肽-复查时间\": \"请填入使用兰瑞肽时的复查时间，若未提及则填入空串\", \"兰瑞肽-检查结果\": \"请填入使用兰瑞肽时的检查结果，若未提及则填入空串\", \"兰瑞肽-治疗效果\": \"请填入使用兰瑞肽时的治疗效果，若未提及则填入空串\", \"兰瑞肽-治疗时间\": \"请填入使用兰瑞肽时的治疗时间，若未提及则填入空串\", \"曾使用索玛卡林\": \"该项需要从[有、无]中选择一项作为内容，若未明确提及则填入空串\", \"曾使用善龙\": \"该项需要从[有、无]中选择一项作为内容，若未明确提及则填入空串\", \"曾使用兰瑞肽\": \"该项需要从[有、无]中选择一项作为内容，若未明确提及则填入空串\", \"新型冠状病毒核酸化验结果\": \"该项需要从[阴性、阳性]中选择一项作为内容，若未明确提及则填入空串\"},与患者之间的对话如下：\n",
      "患者：医生您好，我月经紊乱3年多了，也不知道原因是什么。\n",
      "医生：月经紊乱前是否生活压力很大？或者生活中出现了重大变故？\n",
      "患者：没有，都挺正常的。\n",
      "医生：例假会持续多长时间？量正常嘛？\n",
      "患者：可能要有7、8天左右，量比较少。\n",
      "医生：之前有没有去看过医生？\n",
      "患者：2023年5月份的时候参加体检发现泌乳素升高，然后就去我们本地的医院看来着，医生让我做一个垂体的磁共振，报告上说怀疑是垂体腺瘤。\n",
      "医生：那后来给你开了什么药物？有没有做过放射治疗？\n",
      "患者：没有。\n",
      "医生：那你自己有没有找什么药吃？\n",
      "患者：没有。\n",
      "医生：这几年你有没有觉得看东西没有以前清楚了？看到的视野跟原来一样大吗？\n",
      "患者：我视力还好，这几年里没什么变化。\n",
      "医生：眼睑呢？跟之前比有没有什么变化？\n",
      "患者：没有，没什么变化。\n",
      "医生：我看你身高特别高，具体是多高啊？\n",
      "患者：医生我身高2米5。\n",
      "医生：那你这个就是巨人症啊，有没有觉得手脚比以前胖了？\n",
      "患者：没有。\n",
      "医生：这几年有变胖嘛？身上有那种变胖之后的纹路嘛？\n",
      "患者：没有，这几年我体重没什么变化，没变胖。\n",
      "医生：那有没有心悸、胸闷之类的感觉？\n",
      "患者：没有，没有这些感觉。\n",
      "医生：有孩子了嘛？\n",
      "患者：有孩子了。\n",
      "医生：有溢乳嘛？\n",
      "患者：没有。\n",
      "医生：以前做过什么手术嘛？\n",
      "患者：没做过手术。\n",
      "医生：胃口怎么样？会觉得吃的东西不怎么消化嘛？\n",
      "患者：吃东西都挺正常的，没有那种积食的感觉。\n",
      "医生：晚上睡眠质量怎么样？\n",
      "患者：睡眠质量挺好的，到时间就能正常睡觉。\n",
      "医生：大小便有什么异常没有？比如尿频、尿痛之类的情况？\n",
      "患者：没有。\n",
      "\n",
      "        \n"
     ]
    }
   ],
   "source": [
    "templete = json.dumps(labelMapping,ensure_ascii=False)\n",
    "\n",
    "prompt = f'''请你扮演一位医生，根据和患者之间的对话为患者整理一份结构化病历，病历中所有包含的内容及要求会以json的形式给你。对话中未明确提及的内容，只能填入空字符串。注意不要将就诊日期和患者以往的就诊的日期混淆。json中包含键值对，键为病历中的内容，值为该内容的要求。json如下：{templete},与患者之间的对话如下：{speech}\n",
    "        '''\n",
    "print(prompt)"
   ]
  },
  {
   "cell_type": "code",
   "execution_count": 9,
   "id": "49488a3f",
   "metadata": {},
   "outputs": [
    {
     "data": {
      "text/plain": [
       "{'睡眠不佳缘由': '不好', '曾就诊医院': '医院', '精神不佳缘由': '不好', '大小便异常症状': '不正常'}"
      ]
     },
     "execution_count": 9,
     "metadata": {},
     "output_type": "execute_result"
    }
   ],
   "source": [
    "label2origin"
   ]
  },
  {
   "cell_type": "code",
   "execution_count": null,
   "id": "64017245",
   "metadata": {},
   "outputs": [],
   "source": []
  }
 ],
 "metadata": {
  "kernelspec": {
   "display_name": "Python 3 (ipykernel)",
   "language": "python",
   "name": "python3"
  },
  "language_info": {
   "codemirror_mode": {
    "name": "ipython",
    "version": 3
   },
   "file_extension": ".py",
   "mimetype": "text/x-python",
   "name": "python",
   "nbconvert_exporter": "python",
   "pygments_lexer": "ipython3",
   "version": "3.10.9"
  }
 },
 "nbformat": 4,
 "nbformat_minor": 5
}
